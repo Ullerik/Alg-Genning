{
 "cells": [
  {
   "cell_type": "code",
   "execution_count": 1,
   "id": "8423fe9b",
   "metadata": {},
   "outputs": [
    {
     "name": "stdout",
     "output_type": "stream",
     "text": [
      "Support algs imported!\n",
      "Cube initiated\n",
      "Gripbased alg genning initiated\n"
     ]
    }
   ],
   "source": [
    "import numpy as np\n",
    "\n",
    "%run alg_genning.ipynb"
   ]
  },
  {
   "cell_type": "code",
   "execution_count": 2,
   "id": "781d3dfa",
   "metadata": {},
   "outputs": [],
   "source": [
    "# read move_transition_table.txt and put it into a 2D array\n",
    "# it has some lines with numbers that are tab-separated\n",
    "with open('move_transition_table.txt', 'r') as f:\n",
    "    lines = f.readlines()\n",
    "    lines = lines[1:] # skip the first line\n",
    "\n",
    "# split each line by tab\n",
    "transition_table = np.array([list(map(int, line.split('\\t'))) for line in lines if line.strip() and not line.startswith('#')])\n",
    "transition_table = np.vstack((np.zeros(transition_table.shape[1]), transition_table))\n",
    "transition_table = transition_table.astype(int)"
   ]
  },
  {
   "cell_type": "code",
   "execution_count": 3,
   "id": "e41abb25",
   "metadata": {},
   "outputs": [
    {
     "name": "stderr",
     "output_type": "stream",
     "text": [
      "C:\\Users\\ulrik\\AppData\\Roaming\\Python\\Python39\\site-packages\\numba\\core\\ir_utils.py:2119: NumbaPendingDeprecationWarning: \u001b[1m\n",
      "Encountered the use of a type that is scheduled for deprecation: type 'reflected list' found for argument 'alg_array' of function 'check_rlr2'.\n",
      "\n",
      "For more information visit https://numba.pydata.org/numba-doc/latest/reference/deprecation.html#deprecation-of-reflection-for-list-and-set-types\n",
      "\u001b[1m\n",
      "File \"..\\..\\..\\..\\AppData\\Local\\Temp\\ipykernel_22156\\3354081960.py\", line 32:\u001b[0m\n",
      "\u001b[1m<source missing, REPL/exec in use?>\u001b[0m\n",
      "\u001b[0m\n",
      "  warnings.warn(NumbaPendingDeprecationWarning(msg, loc=loc))\n",
      "C:\\Users\\ulrik\\AppData\\Roaming\\Python\\Python39\\site-packages\\numba\\core\\ir_utils.py:2119: NumbaPendingDeprecationWarning: \u001b[1m\n",
      "Encountered the use of a type that is scheduled for deprecation: type 'reflected list' found for argument 'array' of function 'array_to_alg'.\n",
      "\n",
      "For more information visit https://numba.pydata.org/numba-doc/latest/reference/deprecation.html#deprecation-of-reflection-for-list-and-set-types\n",
      "\u001b[1m\n",
      "File \"..\\..\\..\\..\\AppData\\Local\\Temp\\ipykernel_22156\\1912714372.py\", line 5:\u001b[0m\n",
      "\u001b[1m<source missing, REPL/exec in use?>\u001b[0m\n",
      "\u001b[0m\n",
      "  warnings.warn(NumbaPendingDeprecationWarning(msg, loc=loc))\n"
     ]
    },
    {
     "name": "stdout",
     "output_type": "stream",
     "text": [
      "r' u' r R' F' U2 r2 u2 R2 D2 R2 u2 R' D' R u2 r' R2 U R'\n"
     ]
    }
   ],
   "source": [
    "alg_array = transition_scrambler(20, transition_table)\n",
    "alg = array_to_alg(alg_array)\n",
    "print(alg)"
   ]
  },
  {
   "cell_type": "code",
   "execution_count": 48,
   "id": "0d39df5e",
   "metadata": {},
   "outputs": [
    {
     "data": {
      "text/plain": [
       "559849"
      ]
     },
     "execution_count": 48,
     "metadata": {},
     "output_type": "execute_result"
    }
   ],
   "source": [
    "# gen_algs(length, start_grips = np.array([1]), move_transition = move_transition, allowed_moves = allowed_moves)\n",
    "\n",
    "allowed_moves = np.full(45,10, dtype=int)\n",
    "\n",
    "algs = gen_algs(5, start_grips = np.array([1]), move_transition = transition_table, allowed_moves = allowed_moves)\n",
    "len(algs)"
   ]
  },
  {
   "cell_type": "code",
   "execution_count": 28,
   "id": "dfec59ed",
   "metadata": {},
   "outputs": [
    {
     "name": "stdout",
     "output_type": "stream",
     "text": [
      "--- Initiating alg genning up to length 16 ---\n",
      "Parameters:\n",
      "  - cubestate =          5 5 5\n",
      "         5 5 5\n",
      "         5 5 5\n",
      "0 0 0  0 0 0  0 0 0  0 0 0\n",
      "4 4 4  1 1 1  2 2 2  3 3 3\n",
      "4 4 4  1 1 1  2 2 2  3 3 3\n",
      "         6 6 6\n",
      "         6 6 6\n",
      "         6 6 6\n",
      "\n",
      "  - start_grips = 1, 2, 3\n",
      "  - skip_U = True\n",
      "  - prnt = True\n",
      "Genning search algs...\n",
      "Algs of length 1 genned. Time spent: 0.00s...\n",
      "Algs of length 2 genned. Time spent: 0.00s...\n",
      "Algs of length 3 genned. Time spent: 0.00s...\n",
      "Algs of length 4 genned. Time spent: 0.00s...\n",
      "Algs of length 5 genned. Time spent: 0.01s...\n",
      "Algs of length 6 genned. Time spent: 0.03s...\n",
      "Algs of length 7 genned. Time spent: 0.10s...\n",
      "Algs of length 8 genned. Time spent: 0.39s...\n",
      "Done genning algs. Making into np array. Time spent: 0.39s\n",
      "Genning table based on 1640588 algs...\n",
      "164058 (10.00%) algs added in 16.97 seconds...\n",
      "328116 (20.00%) algs added in 34.30 seconds...\n",
      "492174 (30.00%) algs added in 52.85 seconds...\n",
      "656232 (40.00%) algs added in 69.34 seconds...\n",
      "820290 (50.00%) algs added in 87.25 seconds...\n",
      "984348 (60.00%) algs added in 107.39 seconds...\n",
      "1148406 (70.00%) algs added in 124.98 seconds...\n",
      "1312464 (80.00%) algs added in 142.86 seconds...\n",
      "1476522 (90.00%) algs added in 160.67 seconds...\n",
      "1640580 (100.00%) algs added in 178.09 seconds...\n",
      "Table generated in 178.10 seconds. Size: 1029224 consisting of 1036611 algs\n",
      "--- Initiating search alg genning up to length 8. Previous algs cannot be reused if we want to follow the table ---\n",
      "Genning search algs...\n",
      "Algs of length 1 genned. Time spent: 0.00s...\n",
      "Algs of length 2 genned. Time spent: 0.00s...\n",
      "Algs of length 3 genned. Time spent: 0.00s...\n",
      "Algs of length 4 genned. Time spent: 0.00s...\n",
      "Algs of length 5 genned. Time spent: 0.00s...\n",
      "Algs of length 6 genned. Time spent: 0.01s...\n",
      "Algs of length 7 genned. Time spent: 0.05s...\n",
      "Algs of length 8 genned. Time spent: 0.23s...\n",
      "Done genning algs. Making into np array. Time spent: 0.23s\n",
      "Genning full algs based on 1526406 search algs and table of size 1029224...\n",
      "152640 (10.00%) setups checked in 23.52 seconds. 992 full algs found\n",
      "305280 (20.00%) setups checked in 47.19 seconds. 1440 full algs found\n",
      "457920 (30.00%) setups checked in 71.07 seconds. 1822 full algs found\n",
      "610560 (40.00%) setups checked in 99.08 seconds. 2171 full algs found\n",
      "763200 (50.00%) setups checked in 127.64 seconds. 2447 full algs found\n",
      "915840 (60.00%) setups checked in 156.05 seconds. 2447 full algs found\n",
      "1068480 (70.00%) setups checked in 179.99 seconds. 2447 full algs found\n",
      "1221120 (80.00%) setups checked in 203.91 seconds. 2637 full algs found\n",
      "1373760 (90.00%) setups checked in 227.48 seconds. 2957 full algs found\n",
      "1526400 (100.00%) setups checked in 251.15 seconds. 3284 full algs found\n",
      "Full algs generated in 251.15 seconds. 3284 algs found\n",
      "--- Done generating algs ---\n",
      "  - Total time spent: 429.88 seconds.\n",
      "  - Alg count: 3284.\n",
      "  - Example alg: R U F2 R2 F' R U R U' R' F R F2 U' R' (15 moves)\n",
      "--- Initiating alg categorization ---\n",
      "Categorizing algs...\n",
      "328 (9.99%) algs added in 1.09 seconds. 19 keys made...\n",
      "656 (19.98%) algs added in 1.43 seconds. 22 keys made...\n",
      "984 (29.96%) algs added in 1.75 seconds. 22 keys made...\n",
      "1312 (39.95%) algs added in 2.05 seconds. 22 keys made...\n",
      "1640 (49.94%) algs added in 2.36 seconds. 22 keys made...\n",
      "1968 (59.93%) algs added in 2.66 seconds. 22 keys made...\n",
      "2296 (69.91%) algs added in 2.96 seconds. 22 keys made...\n",
      "2624 (79.90%) algs added in 3.26 seconds. 22 keys made...\n",
      "2952 (89.89%) algs added in 3.62 seconds. 22 keys made...\n",
      "3280 (99.88%) algs added in 3.90 seconds. 22 keys made...\n",
      "Done in 3.90 seconds.\n",
      "Sorting algs by length...\n",
      "Done in 3.91 seconds.\n",
      "Total of 22 keys made.\n",
      "--- Done categorizing algs ---\n",
      "--- Statistics ---\n",
      "  - Average alg length: 12.45 (9.88 variance)\n",
      "  - Best case: 11 moves\n",
      "  - Worst case: 16 moves\n",
      "Further processing may be necessary.\n",
      "22\n"
     ]
    }
   ],
   "source": [
    "# Genning PLLs using R U F\n",
    "search_depth = 8\n",
    "table_depth = 8\n",
    "# PLL\n",
    "cubestate = np.array([0,0,0,1,1,1,1,1,1,0,0,0,2,2,2,2,2,2,0,0,0,3,3,3,3,3,3,0,0,0,4,4,4,4,4,4,5,5,5,5,5,5,5,5,5,6,6,6,6,6,6,6,6,6])\n",
    "move_transition = transition_table\n",
    "start_grips = np.array([1,2,3])\n",
    "# moves                   R  R2 R' L  L2 L' r  r2 r' l  l2 l' M  M2 M' U  U2 U' D  D2 D' u  u2 u' d  d2 d' E  E2 E' F  F2 F' B  B2 B' f  f2 f' b  b2 b' S  S2 S'\n",
    "allowed_moves = np.array([10, 2,10, 0, 0, 0, 0, 0, 0, 0, 0, 0, 0, 0, 0,10, 2,10, 0, 0, 0, 0, 0, 0, 0, 0, 0, 0, 0, 0, 2, 1, 2, 0, 0, 0, 0, 0, 0, 0, 0, 0, 0, 0, 0])\n",
    "skip_U = True\n",
    "prnt = True\n",
    "categorize = True\n",
    "category_state=np.array([1,1,1,1,1,1,1,1,1,2,2,2,2,2,2,2,2,2,3,3,3,3,3,3,3,3,3,4,4,4,4,4,4,4,4,4,5,5,5,5,5,5,5,5,5,6,6,6,6,6,6,6,6,6])\n",
    "return_full_alg_list = False\n",
    "remove_regrips = False\n",
    "\n",
    "full_algs = gen_full_algs(search_depth, table_depth, cubestate, move_transition, start_grips, allowed_moves, skip_U, prnt, categorize, category_state, return_full_alg_list, remove_regrips)\n",
    "print(len(full_algs))"
   ]
  },
  {
   "cell_type": "code",
   "execution_count": 30,
   "id": "2a3471db",
   "metadata": {},
   "outputs": [
    {
     "name": "stdout",
     "output_type": "stream",
     "text": [
      "111111111222222222333333333444444444555555555666666666\n",
      "['()', \"(U) R' U F R' F' R U F' U' F R\", \"(U') F R' F' R U F' U' F R U' R'\", \"(U) F R U' R' U F R' F' R U F'\", \"(U') F' U' F R U' R' U F R' F' R\", \"(U') F U' R' F R F' U' R U R' F'\", \"(U') R' F' U F U' R' F R F' U' R\", \"(U) R' F R F' U' R U R' F' U F\", \"(U) R U R' F' U F U' R' F R F'\", \"R F' U' R U R' F' U F U' R' F\"]\n",
      "311111111233222222444333333122444444555555555666666666\n",
      "[\"(U) R U2 F' R' F U' F' R F U' R'\", \"R U F' R' F U F' R F U2 R'\", \"R U2 F U' R' U R U F' U R'\", \"(U) R U' F U' R' U' R U F' U2 R'\", \"(U') R F U' R' U' R U2 F' R' F U' F'\", \"R U R' F U F' R F U' F' U' R'\", \"(U') F U' R' U' R U2 F' R' F U' F' R\", \"(U) R2 U F U F' R2 F U' F' R2 U' R2\", \"(U') F U F' R F U2 R' U R U F' R'\", \"(U) R U F U F' R' F U' F' R U' R'\"]\n",
      "444111111112222222331333333223444444555555555666666666\n",
      "[\"(U2) F' U R' U F U F' U' R U2 F\", \"(U') F' U' R F R' U' R F' R' U2 F\", \"(U') F' U2 R' U F U' F' U' R U' F\", \"(U2) F' U2 R F R' U R F' R' U F\", \"(U2) F' U' R' U' R F R' U R F' U F\", \"R' U' R F' R' U2 F U' F' U' R F\", \"R' U F U F' U2 R F R' U R F'\", \"(U') F' U' F R' U' R F' R' U R U F\", \"F R' U' R F' R' U2 F U' F' U' R\", \"F' R' U F U F' U2 R F R' U R\"]\n",
      "121111111232222222313333333444444444555555555666666666\n",
      "[\"F2 U' F' U' F U F U F U' F\", \"R2 U' R' U' R2 U R U R U2 R\", \"(U2) F U' F U F U F U' F' U' F2\", \"R U2 R U R U R2 U' R' U' R2\", \"(U) R2 U' R' U' R U R U R U' R\", \"(U') R U' R U R U R U' R' U' R2\", \"R2 U2 R U2 R' U' R' U' R2 U R U' R2\", \"F U F' U F' U' F2 U' F' U F' U F\", \"R U2 R2 U' R U R U2 R' U' R' U R\", \"(U2) R2 F U' F U F U F U' F' U' F2 R2\"]\n",
      "331111111224222222113333333442444444555555555666666666\n",
      "[\"(U') R U' R2 F2 U' R F2 R' U F2 R2 U R'\", \"R F' U' F U F R' F2 R' U F U F' U' R F\", \"(U2) F R U2 R U F R F' U' R' U F' U F R' F'\", \"R2 U R U2 R' U F R2 F' U R U' F R F' R'\", \"(U2) R' U2 R F R U' F' U R U' F U R2 F' U2 R\", \"F' R' U F U' F' U' F R' U' R F' R' U R2 F\", \"F' R' U F U' F' U' R F2 R F' U' F' U F R'\", \"(U2) R' U2 R F R2 U R' F' R F R U' R F' U2 R\", \"(U2) F R F' U' F U' R U F R' F' U' R' U2 R' F'\", \"F' R2 U' R F R' U R F' U F U F' U' R F\"]\n",
      "141111111222222222313333333434444444555555555666666666\n",
      "[\"F2 U F U F' U' F' U' F' U F'\", \"(U2) F' U F' U' F' U' F' U F U F2\", \"(U) R2 U R U R' U' R' U' R' U R'\", \"(U') R' U R' U' R' U' R' U R U R2\", \"(U2) R2 U R U R2 U' R' U' R' U2 R'\", \"(U2) R' U2 R' U' R' U' R2 U R U R2\", \"(U2) R U2 R' F' U' F U' F' U2 F R U R'\", \"(U2) R2 U R' U' R2 U R U R U2 R' U2 R2\", \"(U') F' R' U R' U' R' U' R' U R U R2 F\", \"(U) R' U' R F U F' U' R' U R F U' F'\"]\n",
      "331111111244222222123333333412444444555555555666666666\n",
      "[\"R2 U' R F' R' U R U F U' F' U' F R\", \"R' F' U F U F' U' R' U' R F R' U R2\", \"F2 U F' R F U' F' U' R' U R U R' F'\", \"F R U' R' U' R U F U F' R' F U' F2\", \"F R U' R' F2 U F' R' F U' F2 U R U F'\", \"(U2) F U' R' U' F2 U F' R F U' F2 R U R' F'\", \"F R2 U F' U2 R' U' R U' F U' R' U' R' F'\", \"(U2) R' U F U R2 U' R F' R' U R2 F' U' F R\", \"(U') F' U F U' R2 U2 R2 U' F' U' F U R2 U2 R2\", \"F U' F' U' R U2 R2 U F U' F' U' R2 U' R'\"]\n",
      "323111111414222222141333333232444444555555555666666666\n",
      "[\"R' U' R U' R U R U' R' U R U R2 U' R'\", \"(U2) R2 F' U F R' U2 R2 U2 R2 U2 R' F' U' F R2\", \"R U R2 U' R' U' R U R' U' R' U R' U R\", \"(U') R' U' R' U' R F R' F' U R F' U' F U2 R\", \"(U2) F' R2 U F R U2 R2 U2 R2 U2 R F' U' R2 F\", \"(U2) F' R2 U F R' U2 R2 U2 R2 U2 R' F' U' R2 F\", \"(U2) R2 F U F' R U2 R2 U2 R2 U2 R F U' F' R2\", \"(U') R' U2 F' U F R' U' F R F' R' U R U R\", \"(U2) F R U R' U' F' U' F U R' F R F' U' F'\", \"(U') F U F R' F' R U' F' U F U R U' R' F'\"]\n",
      "421111111232222222344333333113444444555555555666666666\n",
      "[\"(U) R U' R F2 R' U R' U' R2 F2 R2\", \"(U2) F' U F R2 F2 R2 F' U' F R2 F2 R2\", \"(U) F U2 R' U' R F' R' U R U' F U' F'\", \"(U') R' U' R F' R' F U' F' R F R' U2 R\", \"(U') R' U' R U' F U F' R' F U' F' U2 R\", \"(U') R2 U' R2 U' F U F' R2 F U' F' U2 R2\", \"(U) F U2 F' R F R' U' R F' R' F U' F'\", \"R2 F2 R' F' R' U' R2 U R F R' F2 U' R2\", \"F' R' F R U' R' F' R2 U R' U' R' F R\", \"(U') R2 F' R F' R' F2 U' F2 R F R' F U R2\"]\n",
      "341111111233222222424333333112444444555555555666666666\n",
      "[\"F' U' F U F R' F2 U F U F' U' F R\", \"(U2) F' R' U2 F' U' R' F' R U F U' R U' F\", \"R' F' U F U' F' U' F2 R F' U' F' U F\", \"(U2) F2 U' F U F' R2 F U' F U2 R2 U' F2 R2\", \"(U') R U' F U' R U F R' F' U' R' U2 F' R'\", \"(U) F R U' R' U R U R2 F' R U R U' R'\", \"(U) R U R' U' R' F R2 U' R' U' R U R' F'\", \"(U') R F U2 R U F R F' U' R' U F' U R'\", \"(U2) F' U R' U F' U' R' F R U F U2 R F\", \"(U) R U2 F U2 F' U R' U2 R2 F R' U R F' R2\"]\n",
      "321111111214222222133333333442444444555555555666666666\n",
      "[\"R F R F' U F' U' F2 R' F' U' R' U R'\", \"R U' R U F R F2 U F U' F R' F' R'\", \"F' R2 F R U' F' R F2 R2 U R U' R F' R\", \"(U) R' F R' U R' U' R2 F2 R' F U R' F' R2 F\", \"(U) F U2 R U' R' U2 R F U F' U' R' U F U' F2\", \"(U) F R2 U R' U2 F' U R U' F U2 R2 U' R F' R2\", \"F' U F U' R F R' U' R' U R' U' R2 U F' R'\", \"(U) F R2 U2 R U' F' R U R2 U' F R U' R F' R\", \"(U) R2 F R' U R2 U2 F' U R' U' F U2 R U' R2 F'\", \"R F U' R2 U R U' R U R F' R' U F' U' F\"]\n",
      "212111111324222222133333333441444444555555555666666666\n",
      "[\"(U2) R2 F2 R2 U R U' R F2 R' U R'\", \"(U2) R2 F2 R2 F' U F R2 F2 R2 F' U' F\", \"(U) F U F' U R' U' R F R' U R U2 F'\", \"(U') R' U2 R F' R' F U F' R F R' U R\", \"(U') R' U2 F U F' R F U' F' U R' U R\", \"(U) F U F' R F R' U R F' R' F U2 F'\", \"(U) F2 R F' R F R2 U R2 F' R' F R' U' F2\", \"(U2) F' R2 U F' U' R2 U R2 U F U' R2 U' F\", \"(U2) F' R2 F' R' F R' U R F' R F R2 U' F\", \"(U') R' F R F2 U R' U' R F2 R2 F' R U R\"]\n",
      "143111111421222222212333333334444444555555555666666666\n",
      "[\"R U' R F2 U R U R U' R' U' F2 R2\", \"(U) R2 F2 U R U R' U' R' U' F2 R' U R'\", \"F2 R' F' U' F' U F R F' U2 F U2 F'\", \"(U') F U2 F' U2 F R' F' U' F U F R F2\", \"(U2) F' R' U' R F' R' U F' U' F' U F R F2\", \"F U2 R' U' R U F' U' R' U R F U2 F'\", \"(U2) F2 R' F' U' F U F U' R F R' U R F\", \"(U') F U2 F' R' U' R U F U' R' U R U2 F'\", \"(U2) R U R' F' U' F R U R' F R' F' R2 U2 R'\", \"R U2 R' U2 R U R' F' U' F U R' F R F'\"]\n",
      "131111111242222222313333333424444444555555555666666666\n",
      "[\"R2 U2 R' U2 R2 U2 R2 U2 R' U2 R2\", 'R2 U2 R U2 R2 U2 R2 U2 R U2 R2', \"(U') R U2 R' U' R' U' R2 U' R2 U2 R2 U2 R'\", \"(U') R' U2 R2 U2 R2 U' R2 U' R' U' R' U2 R\", \"(U) R U2 R2 U2 R2 U R2 U R U R U2 R'\", \"(U) R' U2 R U R U R2 U R2 U2 R2 U2 R\", \"R2 U F' U R' U2 R2 U2 R2 U2 R' U' F U' R2\", \"R2 U F2 U R' U2 R2 U2 R2 U2 R' U' F2 U' R2\", \"R2 U F U R' U2 R2 U2 R2 U2 R' U' F' U' R2\", \"R2 U F2 U R U2 R2 U2 R2 U2 R U' F2 U' R2\"]\n",
      "243111111424222222132333333311444444555555555666666666\n",
      "[\"(U) R2 F2 U F U F' R2 F U' F' R2 U' F2 R2\", \"(U') F U F' R U2 R' F' U' F' R' F2 R F' U F\", \"(U) R2 F R U R' U' R' F2 U' R' U R U F R2\", \"(U) R2 F2 U R' F' R U R2 U' R' F R' U' F2 R2\", \"R U R' U2 F' U' R' F' U' F2 U F' R U F\", \"(U) R2 F2 R' U' F U' R' U' R U F' U2 R F2 R2\", \"(U) R2 F2 R' U2 F' R' F U' F' R F U' R F2 R2\", \"(U') F U F' U2 R' F' U' F' R' F2 R F' U F R\", \"(U2) R' U' R F2 R U' R2 U2 R U R U2 R' U' F2\", \"R' U2 R U' F R U2 R F' R' U' R F R2 U' F'\"]\n",
      "411111111232222222324333333143444444555555555666666666\n",
      "[\"(U2) R2 F R U R U' R' F' R U2 R' U2 R\", \"(U) F2 R2 U' F' U' F U F U R2 F U' F\", \"(U') R' U2 R U2 R' F R U R' U' R' F' R2\", \"(U2) F' U F' R2 U' F' U' F' U F U R2 F2\", \"R F U F' R F U' R U R U' R' F' R2\", \"R2 F R U R' U' R' U F' R' F U' F' R'\", \"(U') R' U2 R F U F' U' R' U F U' F' U2 R\", \"(U2) R' U2 F U F' U' R U F U' F' R' U2 R\", \"(U2) F R U' R2 U2 R U2 R U R' F' U2 R' U2 R\", \"(U2) F' U2 F U2 F' U' F R U R' U' F R' F' R\"]\n",
      "311111111244222222133333333422444444555555555666666666\n",
      "[\"(U) F' U F2 R2 U F' R2 F U' R2 F2 U' F\", \"F' R U R' U' R' F R2 F U' R' U' R U F' R'\", \"R F U' R' U R U R' F U F' R F U' F2 R'\", \"(U2) F R' U2 R U F2 R' F U F' R F U2 F U' F'\", \"(U2) F U2 F' R' F' U R U' F' U R' U' F2 R U2 F'\", \"(U2) F U2 R' F2 U R U' F U R' U' F R F U2 F'\", \"R F U' R' U R U F2 R' F U F' R F U' R'\", \"(U2) F U F' U2 F' R' F U' F' R F2 U' R' U2 R F'\", \"(U') R U' F R F' R' U2 R2 U R U2 R' U F R2 F'\", \"(U') F R2 F' U' R U2 R' U' R2 U2 R F R' F' U R'\"]\n",
      "341111111223222222414333333132444444555555555666666666\n",
      "[\"F2 R2 F U2 R' U F U' F' U' R U' F' R2 F2\", \"(U') R2 F2 R U2 R U2 R' F R U R' U' R' F R2\", \"F2 R2 U' F' R F' U' F2 U F R' F' U R2 F2\", \"F2 R U F U F' U' R2 F' U' F' U F R F2\", \"(U') R2 F2 R U2 R F U2 R U R' F' R' U' F2 R\", \"(U') F R U R' F R2 F' R' U' R' F' U2 R' U R\", \"(U') R U R' F R2 F' R' U' R' F' U2 F R' U R\", \"(U2) R U F R' U R2 U' R' F' U' R' U2 F' U F\", \"(U2) R2 F2 R2 U' F U F U' F' R2 F2 R2 U F' U' F\", \"F2 R' U' R2 U' R2 U R' F2 R' U' R2 U2 R2 U2 R'\"]\n",
      "243111111432222222324333333111444444555555555666666666\n",
      "[\"R2 F R F' R' U' F' U F R2 U R' U' R\", \"(U) R' U R U' R2 F' U' F U R F R' F' R2\", \"(U') F2 R' F' R F U R U' R' F2 U' F U F'\", \"(U2) F U' F' U F2 R U R' U' F' R' F R F2\", \"(U) R U' F R F' U F' U' F2 R' F' U' R' U2 R'\", \"(U') R U F' R F R U R' U' R' U F' R' F U2 R'\", \"(U') R U2 F' R F U' R U R U' R' F' R' F U' R'\", \"(U2) F' U' F U F R U R2 F' R F R U' R2 F' R\", \"(U') R' F R2 U R' F' R' F R2 U' R' F' U' F' U F\", \"(U') R U' R' U R U F R U R' U' F' R2 F R F'\"]\n",
      "412111111321222222234333333143444444555555555666666666\n",
      "[\"R' F' U2 F U' F' R' U2 R U R' U R F U' R\", \"F U2 R U' R' U2 F' U' F2 U R U' R' F' U F'\", \"(U) R' U2 F' U F U2 R U R2 U' F' U F R U' R\", \"R' U R' F' U' F U R2 U' R' U2 F' U' F U2 R\", \"(U) F U' F R U R' U' F2 U F U2 R U R' U2 F'\", \"R' U F' R' U' R U' R' U2 R F U F' U2 F R\"]\n",
      "113111111431222222242333333324444444555555555666666666\n",
      "[\"R2 F' R U R U' R' F' R U2 R' U2 R' F2 R2\", \"(U) F2 R2 U' F R F' U' F2 U F R' F U R2 F2\", \"(U') R' U' R U2 F R U R F R2 F' R U' R' F'\", \"(U') R' U' R F' U2 F R U R F R2 F' R U' R'\", \"(U2) F' U' F U2 R U F R U R2 U' R F' U' R'\", \"F U F' R2 F' U F2 U2 F' U' F' U2 F U R2\", \"(U) F2 R' F' U' F U F R2 U F U' F' U' R' F2\", \"(U) F2 R2 F U2 R F R' U R F' R' U F' R2 F2\", \"(U) R U2 R2 U2 R2 U R F2 R U' R2 U R2 U R F2\", \"(U) R F' U R' U' R F R U' R U' R' U R' U R2\"]\n",
      "434111111122222222341333333213444444555555555666666666\n",
      "[\"(U') R2 F2 U R2 F U F' R2 F U' F' U' F2 R2\", \"R' F' U' F R' F2 R F U F R U2 F U' F'\", \"(U') R2 F2 R' U2 F U' R' U R U F' U R F2 R2\", \"(U2) R' U' F2 U R U2 R U2 R' U F2 U2 R U' R'\", \"(U') R2 F' U' R' U' R U F2 R U R U' R' F' R2\", \"(U) F' U' R' F U' F2 U F R U F U2 R U' R'\", \"(U2) F2 U R U2 R' U' R' U2 R2 U R' F2 R' U R\", \"(U') R2 F2 U R F' R U R2 U' R' F R U' F2 R2\", \"(U') R2 F2 R' U F' R' F U F' R F U2 R F2 R2\", \"F' U' F R' F2 R F U F R U2 R' F U' F'\"]\n"
     ]
    }
   ],
   "source": [
    "keys = full_algs.keys()\n",
    "for key in keys:\n",
    "    print(key)\n",
    "    print(full_algs[key][:10])"
   ]
  },
  {
   "cell_type": "code",
   "execution_count": 18,
   "id": "0c21c78f",
   "metadata": {},
   "outputs": [
    {
     "name": "stdout",
     "output_type": "stream",
     "text": [
      "Genning search algs...\n",
      "Algs of length 1 genned. Time spent: 0.00s...\n",
      "Algs of length 2 genned. Time spent: 0.00s...\n",
      "Algs of length 3 genned. Time spent: 0.00s...\n",
      "Algs of length 4 genned. Time spent: 0.02s...\n",
      "Algs of length 5 genned. Time spent: 0.22s...\n",
      "Done genning algs. Making into np array. Time spent: 0.22s\n",
      "Genning table based on 1760163 algs...\n",
      "176016 (10.00%) algs added in 2.80 seconds...\n",
      "352032 (20.00%) algs added in 5.58 seconds...\n",
      "528048 (30.00%) algs added in 8.50 seconds...\n",
      "704064 (40.00%) algs added in 11.21 seconds...\n",
      "880080 (50.00%) algs added in 13.98 seconds...\n",
      "1056096 (60.00%) algs added in 16.69 seconds...\n",
      "1232112 (70.00%) algs added in 19.78 seconds...\n",
      "1408128 (80.00%) algs added in 22.72 seconds...\n",
      "1584144 (90.00%) algs added in 25.88 seconds...\n",
      "1760160 (100.00%) algs added in 28.74 seconds...\n",
      "Table generated in 28.74 seconds. Size: 309165 consisting of 1760162 algs\n",
      "Genning search algs...\n",
      "Algs of length 1 genned. Time spent: 0.00s...\n",
      "Algs of length 2 genned. Time spent: 0.00s...\n",
      "Algs of length 3 genned. Time spent: 0.00s...\n",
      "Algs of length 4 genned. Time spent: 0.01s...\n",
      "Done genning algs. Making into np array. Time spent: 0.01s\n"
     ]
    }
   ],
   "source": [
    "state223 = np.array([0,0,0,1,0,0,1,0,0,0,0,0,0,2,0,0,0,0,0,0,0,0,0,3,0,0,3,0,0,0,4,4,4,4,4,4,0,0,0,0,0,0,0,0,0,6,0,0,6,0,0,6,0,0])\n",
    "\n",
    "search_depth = 4\n",
    "table_depth = 5\n",
    "\n",
    "search_algs, table = generic_solver_setup(state223, search_depth, table_depth, transition_table, start_grips = np.array([1,2,3,4,5,6]))"
   ]
  },
  {
   "cell_type": "code",
   "execution_count": 21,
   "id": "fda17926",
   "metadata": {},
   "outputs": [
    {
     "data": {
      "text/plain": [
       "\"R2 u' R' F' D L R F2 u\""
      ]
     },
     "execution_count": 21,
     "metadata": {},
     "output_type": "execute_result"
    }
   ],
   "source": [
    "scramble = \"L' D' R' B2 R2 U B2 F2 R2 U L2 R2 U' B L' B2 F' L U\"\n",
    "generic_solver(scramble, state223, search_algs, table, solve_CP=True)"
   ]
  },
  {
   "cell_type": "code",
   "execution_count": 15,
   "id": "38b8814c",
   "metadata": {},
   "outputs": [
    {
     "name": "stdout",
     "output_type": "stream",
     "text": [
      "False\n"
     ]
    }
   ],
   "source": [
    "cube_CP = Cube(np.array([7,0,8,0,0,0,1,0,3,8,0,6,0,0,0,3,0,4,6,0,5,0,0,0,4,0,2,5,0,7,0,0,0,2,0,1,5,0,6,0,0,0,7,0,8,1,0,3,0,0,0,2,0,4]))\n",
    "\n",
    "cube_CP.apply_moves(\"R U R U2 R' U2 F R F'\")\n",
    "ID2 = id_from_state(cube_CP.state)\n",
    "print(ID2 in states2gen)"
   ]
  },
  {
   "cell_type": "code",
   "execution_count": 37,
   "id": "13e6f02e",
   "metadata": {},
   "outputs": [
    {
     "name": "stdout",
     "output_type": "stream",
     "text": [
      "         36 37 38\n",
      "         39 40 41\n",
      "         42 43 44\n",
      "27 28 29  0 1 2  9 10 11  18 19 20\n",
      "30 31 32  3 4 5  12 13 14  21 22 23\n",
      "33 34 35  6 7 8  15 16 17  24 25 26\n",
      "         45 46 47\n",
      "         48 49 50\n",
      "         51 52 53\n",
      "\n"
     ]
    }
   ],
   "source": [
    "cubestate = np.array([0,1,2,3,4,5,6,7,8,9,10,11,12,13,14,15,16,17,18,19,20,21,22,23,24,25,26,27,28,29,30,31,32,33,34,35,36,37,38,39,40,41,42,43,44,45,46,47,48,49,50,51,52,53])\n",
    "cube = Cube(cubestate)\n",
    "print(cube)"
   ]
  },
  {
   "cell_type": "code",
   "execution_count": null,
   "id": "04aa9726",
   "metadata": {},
   "outputs": [],
   "source": []
  },
  {
   "cell_type": "code",
   "execution_count": null,
   "id": "67a922ae",
   "metadata": {},
   "outputs": [],
   "source": []
  }
 ],
 "metadata": {
  "kernelspec": {
   "display_name": "base",
   "language": "python",
   "name": "python3"
  },
  "language_info": {
   "codemirror_mode": {
    "name": "ipython",
    "version": 3
   },
   "file_extension": ".py",
   "mimetype": "text/x-python",
   "name": "python",
   "nbconvert_exporter": "python",
   "pygments_lexer": "ipython3",
   "version": "3.9.13"
  }
 },
 "nbformat": 4,
 "nbformat_minor": 5
}
