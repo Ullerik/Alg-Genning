{
 "cells": [
  {
   "cell_type": "code",
   "execution_count": null,
   "id": "8423fe9b",
   "metadata": {},
   "outputs": [
    {
     "name": "stdout",
     "output_type": "stream",
     "text": [
      "Support algs imported!\n",
      "Cube initiated\n",
      "Gripbased alg genning initiated\n"
     ]
    }
   ],
   "source": [
    "import numpy as np\n",
    "%run alg_genning.ipynb"
   ]
  },
  {
   "cell_type": "code",
   "execution_count": 2,
   "id": "781d3dfa",
   "metadata": {},
   "outputs": [],
   "source": [
    "# read move_transition_table.txt and put it into a 2D array\n",
    "# it has some lines with numbers that are tab-separated\n",
    "with open('move_transition_table.txt', 'r') as f:\n",
    "    lines = f.readlines()\n",
    "    lines = lines[1:] # skip the first line\n",
    "\n",
    "# split each line by tab\n",
    "transition_table = np.array([list(map(int, line.split('\\t'))) for line in lines if line.strip() and not line.startswith('#')])\n",
    "transition_table = np.vstack((np.zeros(transition_table.shape[1]), transition_table))\n",
    "transition_table = transition_table.astype(int)"
   ]
  },
  {
   "cell_type": "code",
   "execution_count": null,
   "id": "e41abb25",
   "metadata": {},
   "outputs": [],
   "source": [
    "alg_array = transition_scrambler(20, transition_table)\n",
    "alg = array_to_alg(alg_array)\n",
    "print(alg)"
   ]
  },
  {
   "cell_type": "code",
   "execution_count": null,
   "id": "0d39df5e",
   "metadata": {},
   "outputs": [],
   "source": [
    "# gen_algs(length, start_grips = np.array([1]), move_transition = move_transition, allowed_moves = allowed_moves)\n",
    "\n",
    "allowed_moves = np.full(45,10, dtype=int)\n",
    "\n",
    "algs = gen_algs(5, start_grips = np.array([1]), move_transition = transition_table, allowed_moves = allowed_moves)\n",
    "len(algs)"
   ]
  },
  {
   "cell_type": "code",
   "execution_count": null,
   "id": "dfec59ed",
   "metadata": {},
   "outputs": [],
   "source": [
    "# Genning PLLs using R U F\n",
    "search_depth = 8\n",
    "table_depth = 8\n",
    "# PLL\n",
    "cubestate = np.array([0,0,0,1,1,1,1,1,1,0,0,0,2,2,2,2,2,2,0,0,0,3,3,3,3,3,3,0,0,0,4,4,4,4,4,4,5,5,5,5,5,5,5,5,5,6,6,6,6,6,6,6,6,6])\n",
    "move_transition = transition_table\n",
    "start_grips = np.array([1,2,3])\n",
    "# moves                   R  R2 R' L  L2 L' r  r2 r' l  l2 l' M  M2 M' U  U2 U' D  D2 D' u  u2 u' d  d2 d' E  E2 E' F  F2 F' B  B2 B' f  f2 f' b  b2 b' S  S2 S'\n",
    "allowed_moves = np.array([10, 2,10, 0, 0, 0, 0, 0, 0, 0, 0, 0, 0, 0, 0,10, 2,10, 0, 0, 0, 0, 0, 0, 0, 0, 0, 0, 0, 0, 2, 1, 2, 0, 0, 0, 0, 0, 0, 0, 0, 0, 0, 0, 0])\n",
    "skip_U = True\n",
    "prnt = True\n",
    "categorize = True\n",
    "category_state=np.array([1,1,1,1,1,1,1,1,1,2,2,2,2,2,2,2,2,2,3,3,3,3,3,3,3,3,3,4,4,4,4,4,4,4,4,4,5,5,5,5,5,5,5,5,5,6,6,6,6,6,6,6,6,6])\n",
    "return_full_alg_list = False\n",
    "remove_regrips = False\n",
    "\n",
    "full_algs = gen_full_algs(search_depth, table_depth, cubestate, move_transition, start_grips, allowed_moves, skip_U, prnt, categorize, category_state, return_full_alg_list, remove_regrips)\n",
    "print(len(full_algs))"
   ]
  },
  {
   "cell_type": "code",
   "execution_count": null,
   "id": "2a3471db",
   "metadata": {},
   "outputs": [],
   "source": [
    "keys = full_algs.keys()\n",
    "for key in keys:\n",
    "    print(key)\n",
    "    print(full_algs[key][:10])"
   ]
  },
  {
   "cell_type": "code",
   "execution_count": null,
   "id": "0c21c78f",
   "metadata": {},
   "outputs": [],
   "source": [
    "state223 = np.array([0,0,0,1,0,0,1,0,0,0,0,0,0,2,0,0,0,0,0,0,0,0,0,3,0,0,3,0,0,0,4,4,4,4,4,4,0,0,0,0,0,0,0,0,0,6,0,0,6,0,0,6,0,0])\n",
    "\n",
    "search_depth = 4\n",
    "table_depth = 5\n",
    "\n",
    "search_algs, table = generic_solver_setup(state223, search_depth, table_depth, transition_table, start_grips = np.array([1,2,3,4,5,6]))"
   ]
  },
  {
   "cell_type": "code",
   "execution_count": null,
   "id": "fda17926",
   "metadata": {},
   "outputs": [],
   "source": [
    "scramble = \"L' D' R' B2 R2 U B2 F2 R2 U L2 R2 U' B L' B2 F' L U\"\n",
    "generic_solver(scramble, state223, search_algs, table, solve_CP=True)"
   ]
  },
  {
   "cell_type": "code",
   "execution_count": null,
   "id": "38b8814c",
   "metadata": {},
   "outputs": [],
   "source": [
    "cube_CP = Cube(np.array([7,0,8,0,0,0,1,0,3,8,0,6,0,0,0,3,0,4,6,0,5,0,0,0,4,0,2,5,0,7,0,0,0,2,0,1,5,0,6,0,0,0,7,0,8,1,0,3,0,0,0,2,0,4]))\n",
    "\n",
    "cube_CP.apply_moves(\"R U R U2 R' U2 F R F'\")\n",
    "ID2 = id_from_state(cube_CP.state)\n",
    "print(ID2 in states2gen)"
   ]
  },
  {
   "cell_type": "code",
   "execution_count": null,
   "id": "13e6f02e",
   "metadata": {},
   "outputs": [],
   "source": [
    "cubestate = np.array([0,1,2,3,4,5,6,7,8,9,10,11,12,13,14,15,16,17,18,19,20,21,22,23,24,25,26,27,28,29,30,31,32,33,34,35,36,37,38,39,40,41,42,43,44,45,46,47,48,49,50,51,52,53])\n",
    "cube = Cube(cubestate)\n",
    "print(cube)"
   ]
  },
  {
   "cell_type": "code",
   "execution_count": null,
   "id": "04aa9726",
   "metadata": {},
   "outputs": [],
   "source": []
  },
  {
   "cell_type": "code",
   "execution_count": 25,
   "id": "67a922ae",
   "metadata": {},
   "outputs": [
    {
     "name": "stdout",
     "output_type": "stream",
     "text": [
      "--- Initiating alg genning up to length 14 ---\n",
      "Parameters:\n",
      "  - cubestate = \n",
      "         6 6 6\n",
      "         6 0 6\n",
      "         6 6 6\n",
      "4 4 4  1 0 1  2 2 2  3 0 3\n",
      "4 0 4  1 0 1  2 0 2  3 0 3\n",
      "4 4 4  1 1 1  2 2 2  3 3 3\n",
      "         5 5 5\n",
      "         5 0 5\n",
      "         5 5 5\n",
      "\n",
      "  - start_grips = 1\n",
      "  - skip_U = True\n",
      "  - prnt = True\n",
      "Genning search algs...\n",
      "Algs of length 1 genned. Time spent: 0.00s...\n",
      "Algs of length 2 genned. Time spent: 0.00s...\n",
      "Algs of length 3 genned. Time spent: 0.00s...\n",
      "Algs of length 4 genned. Time spent: 0.01s...\n",
      "Algs of length 5 genned. Time spent: 0.06s...\n",
      "Algs of length 6 genned. Time spent: 0.45s...\n",
      "Algs of length 7 genned. Time spent: 4.26s...\n",
      "Done genning algs. Making into np array. Time spent: 4.26s\n",
      "Genning table based on 9345675 algs...\n",
      "934567 (10.00%) algs added in 16.84 seconds...\n",
      "1869134 (20.00%) algs added in 33.31 seconds...\n",
      "2803701 (30.00%) algs added in 50.43 seconds...\n",
      "3738268 (40.00%) algs added in 66.95 seconds...\n",
      "4672835 (50.00%) algs added in 82.95 seconds...\n",
      "5607402 (60.00%) algs added in 99.40 seconds...\n",
      "6541969 (70.00%) algs added in 115.83 seconds...\n",
      "7476536 (80.00%) algs added in 132.06 seconds...\n",
      "8411103 (90.00%) algs added in 147.60 seconds...\n",
      "9345670 (100.00%) algs added in 162.87 seconds...\n",
      "Table generated in 162.87 seconds. Size: 4676299 consisting of 6868833 algs\n",
      "--- Initiating search alg genning up to length 7. Previous algs cannot be reused if we want to follow the table ---\n",
      "Genning search algs...\n",
      "Algs of length 1 genned. Time spent: 0.00s...\n",
      "Algs of length 2 genned. Time spent: 0.00s...\n",
      "Algs of length 3 genned. Time spent: 0.00s...\n",
      "Algs of length 4 genned. Time spent: 0.01s...\n",
      "Algs of length 5 genned. Time spent: 0.02s...\n",
      "Algs of length 6 genned. Time spent: 0.10s...\n",
      "Algs of length 7 genned. Time spent: 0.74s...\n",
      "Done genning algs. Making into np array. Time spent: 0.74s\n",
      "Genning full algs based on 3819735 search algs and table of size 4676299...\n",
      "381973 (10.00%) setups checked in 13.85 seconds. 253586 full algs found\n",
      "763946 (20.00%) setups checked in 25.67 seconds. 418085 full algs found\n",
      "1145919 (30.00%) setups checked in 37.74 seconds. 546123 full algs found\n",
      "1527892 (40.00%) setups checked in 50.56 seconds. 708361 full algs found\n",
      "1909865 (50.00%) setups checked in 63.49 seconds. 883302 full algs found\n",
      "2291838 (60.00%) setups checked in 69.01 seconds. 883302 full algs found\n",
      "2673811 (70.00%) setups checked in 74.58 seconds. 883302 full algs found\n",
      "3055784 (80.00%) setups checked in 81.69 seconds. 947533 full algs found\n",
      "3437757 (90.00%) setups checked in 91.63 seconds. 1113244 full algs found\n",
      "3819730 (100.00%) setups checked in 101.94 seconds. 1278614 full algs found\n",
      "Full algs generated in 102.60 seconds. 1278614 algs found\n",
      "--- Done generating algs ---\n",
      "  - Total time spent: 270.59 seconds.\n",
      "  - Alg count: 1278614.\n",
      "  - Example alg: M S' r' F R S R2 S R F' r2 R S' R2 (14 moves)\n",
      "--- Initiating alg categorization ---\n",
      "Categorizing algs...\n",
      "127861 (10.00%) algs added in 4.82 seconds. 2 keys made...\n",
      "255722 (20.00%) algs added in 9.59 seconds. 2 keys made...\n",
      "383583 (30.00%) algs added in 14.40 seconds. 2 keys made...\n",
      "511444 (40.00%) algs added in 19.20 seconds. 2 keys made...\n",
      "639305 (50.00%) algs added in 24.08 seconds. 2 keys made...\n",
      "767166 (60.00%) algs added in 28.86 seconds. 2 keys made...\n",
      "895027 (70.00%) algs added in 33.62 seconds. 2 keys made...\n",
      "1022888 (80.00%) algs added in 38.40 seconds. 2 keys made...\n",
      "1150749 (90.00%) algs added in 43.32 seconds. 2 keys made...\n",
      "1278610 (100.00%) algs added in 48.27 seconds. 2 keys made...\n",
      "Done in 48.27 seconds.\n",
      "Sorting algs by length...\n",
      "Done in 51.91 seconds.\n",
      "Total of 2 keys made.\n",
      "--- Done categorizing algs ---\n",
      "--- Statistics ---\n",
      "  - Average alg length: 7.00 (49.00 variance)\n",
      "  - Best case: 14 moves\n",
      "  - Worst case: 14 moves\n",
      "Further processing may be necessary.\n",
      "2\n"
     ]
    }
   ],
   "source": [
    "# parity for void cube:\n",
    "cubestate = np.array([1,0,1,1,0,1,1,1,1,2,2,2,2,0,2,2,2,2,3,0,3,3,0,3,3,3,3,4,4,4,4,0,4,4,4,4,6,6,6,6,0,6,6,6,6,5,5,5,5,0,5,5,5,5])\n",
    "category_state = np.array([1,1,1,1,0,1,1,1,1,2,2,2,2,0,2,2,2,2,3,3,3,3,0,3,3,3,3,4,4,4,4,0,4,4,4,4,6,6,6,6,0,6,6,6,6,5,5,5,5,0,5,5,5,5])\n",
    "\n",
    "search_depth = 7\n",
    "table_depth = 7\n",
    "move_transition = transition_table\n",
    "start_grips = np.array([1])\n",
    "# moves                   R  R2 R' L  L2 L' r  r2 r' l  l2 l' M  M2 M' U  U2 U' D  D2 D' u  u2 u' d  d2 d' E  E2 E' F  F2 F' B  B2 B' f  f2 f' b  b2 b' S  S2 S'\n",
    "allowed_moves = np.array([ 4, 2, 4, 0, 0, 0, 2, 1, 2, 1, 0, 1, 2, 1, 2, 4, 2, 4, 0, 0, 0, 0, 0, 0, 0, 0, 0, 0, 0, 0, 1, 0, 1, 0, 0, 0, 0, 0, 0, 0, 0, 0, 2, 0, 2])\n",
    "skip_U = True\n",
    "prnt = True\n",
    "categorize = True\n",
    "return_full_alg_list = False\n",
    "remove_regrips = False\n",
    "\n",
    "full_algs = gen_full_algs(search_depth, table_depth, cubestate, move_transition, start_grips, allowed_moves, skip_U, prnt, categorize, category_state, return_full_alg_list, remove_regrips)\n",
    "print(len(full_algs))"
   ]
  },
  {
   "cell_type": "code",
   "execution_count": 24,
   "id": "a19cd81f",
   "metadata": {},
   "outputs": [
    {
     "name": "stdout",
     "output_type": "stream",
     "text": [
      "1. r U' S' U r2 U' R2 U' S' U r' R' U r\n"
     ]
    }
   ],
   "source": [
    "for i, alg in enumerate(full_algs[list(full_algs.keys())[1]]):\n",
    "    print(f\"{i+1}. {alg}\")"
   ]
  }
 ],
 "metadata": {
  "kernelspec": {
   "display_name": "base",
   "language": "python",
   "name": "python3"
  },
  "language_info": {
   "codemirror_mode": {
    "name": "ipython",
    "version": 3
   },
   "file_extension": ".py",
   "mimetype": "text/x-python",
   "name": "python",
   "nbconvert_exporter": "python",
   "pygments_lexer": "ipython3",
   "version": "3.9.13"
  }
 },
 "nbformat": 4,
 "nbformat_minor": 5
}
