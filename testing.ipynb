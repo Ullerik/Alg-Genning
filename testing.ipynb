{
 "cells": [
  {
   "cell_type": "code",
   "execution_count": 1,
   "id": "8423fe9b",
   "metadata": {},
   "outputs": [
    {
     "name": "stdout",
     "output_type": "stream",
     "text": [
      "Support algs imported!\n",
      "Cube initiated\n",
      "Gripbased alg genning initiated\n"
     ]
    }
   ],
   "source": [
    "import numpy as np\n",
    "%run alg_genning.ipynb"
   ]
  },
  {
   "cell_type": "code",
   "execution_count": 2,
   "id": "781d3dfa",
   "metadata": {},
   "outputs": [],
   "source": [
    "# read move_transition_table.txt and put it into a 2D array\n",
    "# it has some lines with numbers that are tab-separated\n",
    "with open('move_transition_table.txt', 'r') as f:\n",
    "    lines = f.readlines()\n",
    "    lines = lines[1:] # skip the first line\n",
    "\n",
    "# split each line by tab\n",
    "transition_table = np.array([list(map(int, line.split('\\t'))) for line in lines if line.strip() and not line.startswith('#')])\n",
    "transition_table = np.vstack((np.zeros(transition_table.shape[1]), transition_table))\n",
    "transition_table = transition_table.astype(int)"
   ]
  },
  {
   "cell_type": "code",
   "execution_count": 3,
   "id": "e41abb25",
   "metadata": {},
   "outputs": [
    {
     "name": "stdout",
     "output_type": "stream",
     "text": [
      "S' R2 U' R2 S r U F' r' D R2 U R' u' r2 D2 R' U' R U2\n"
     ]
    }
   ],
   "source": [
    "alg_array = transition_scrambler(20, transition_table)\n",
    "alg = array_to_alg(alg_array)\n",
    "print(alg)"
   ]
  },
  {
   "cell_type": "code",
   "execution_count": 4,
   "id": "0d39df5e",
   "metadata": {},
   "outputs": [
    {
     "data": {
      "text/plain": [
       "559849"
      ]
     },
     "execution_count": 4,
     "metadata": {},
     "output_type": "execute_result"
    }
   ],
   "source": [
    "# gen_algs(length, start_grips = np.array([1]), move_transition = move_transition, allowed_moves = allowed_moves)\n",
    "\n",
    "allowed_moves = np.full(45,10, dtype=int)\n",
    "\n",
    "algs = gen_algs(5, start_grips = np.array([1]), move_transition = transition_table, allowed_moves = allowed_moves)\n",
    "len(algs)"
   ]
  },
  {
   "cell_type": "code",
   "execution_count": 5,
   "id": "dfec59ed",
   "metadata": {},
   "outputs": [
    {
     "name": "stdout",
     "output_type": "stream",
     "text": [
      "--- Initiating alg genning up to length 16 ---\n",
      "Parameters:\n",
      "  - cubestate = \n",
      "         5 5 5\n",
      "         5 5 5\n",
      "         5 5 5\n",
      "0 0 0  0 0 0  0 0 0  0 0 0\n",
      "4 4 4  1 1 1  2 2 2  3 3 3\n",
      "4 4 4  1 1 1  2 2 2  3 3 3\n",
      "         6 6 6\n",
      "         6 6 6\n",
      "         6 6 6\n",
      "\n",
      "  - start_grips = 1, 2, 3\n",
      "  - skip_U = True\n",
      "  - prnt = True\n",
      "Genning search algs...\n",
      "Algs of length 1 genned. Time spent: 0.00s...\n",
      "Algs of length 2 genned. Time spent: 0.00s...\n",
      "Algs of length 3 genned. Time spent: 0.00s...\n",
      "Algs of length 4 genned. Time spent: 0.00s...\n",
      "Algs of length 5 genned. Time spent: 0.01s...\n",
      "Algs of length 6 genned. Time spent: 0.02s...\n",
      "Algs of length 7 genned. Time spent: 0.09s...\n",
      "Algs of length 8 genned. Time spent: 0.43s...\n",
      "Done genning algs. Making into np array. Time spent: 0.43s\n",
      "Genning table based on 1640588 algs...\n",
      "164058 (10.00%) algs added in 2.27 seconds...\n",
      "328116 (20.00%) algs added in 4.42 seconds...\n",
      "492174 (30.00%) algs added in 6.51 seconds...\n",
      "656232 (40.00%) algs added in 8.66 seconds...\n"
     ]
    },
    {
     "ename": "KeyboardInterrupt",
     "evalue": "",
     "output_type": "error",
     "traceback": [
      "\u001b[1;31m---------------------------------------------------------------------------\u001b[0m",
      "\u001b[1;31mKeyboardInterrupt\u001b[0m                         Traceback (most recent call last)",
      "Cell \u001b[1;32mIn[5], line 17\u001b[0m\n\u001b[0;32m     14\u001b[0m return_full_alg_list \u001b[38;5;241m=\u001b[39m \u001b[38;5;28;01mFalse\u001b[39;00m\n\u001b[0;32m     15\u001b[0m remove_regrips \u001b[38;5;241m=\u001b[39m \u001b[38;5;28;01mFalse\u001b[39;00m\n\u001b[1;32m---> 17\u001b[0m full_algs \u001b[38;5;241m=\u001b[39m \u001b[43mgen_full_algs\u001b[49m\u001b[43m(\u001b[49m\u001b[43msearch_depth\u001b[49m\u001b[43m,\u001b[49m\u001b[43m \u001b[49m\u001b[43mtable_depth\u001b[49m\u001b[43m,\u001b[49m\u001b[43m \u001b[49m\u001b[43mcubestate\u001b[49m\u001b[43m,\u001b[49m\u001b[43m \u001b[49m\u001b[43mmove_transition\u001b[49m\u001b[43m,\u001b[49m\u001b[43m \u001b[49m\u001b[43mstart_grips\u001b[49m\u001b[43m,\u001b[49m\u001b[43m \u001b[49m\u001b[43mallowed_moves\u001b[49m\u001b[43m,\u001b[49m\u001b[43m \u001b[49m\u001b[43mskip_U\u001b[49m\u001b[43m,\u001b[49m\u001b[43m \u001b[49m\u001b[43mprnt\u001b[49m\u001b[43m,\u001b[49m\u001b[43m \u001b[49m\u001b[43mcategorize\u001b[49m\u001b[43m,\u001b[49m\u001b[43m \u001b[49m\u001b[43mcategory_state\u001b[49m\u001b[43m,\u001b[49m\u001b[43m \u001b[49m\u001b[43mreturn_full_alg_list\u001b[49m\u001b[43m,\u001b[49m\u001b[43m \u001b[49m\u001b[43mremove_regrips\u001b[49m\u001b[43m)\u001b[49m\n\u001b[0;32m     18\u001b[0m \u001b[38;5;28mprint\u001b[39m(\u001b[38;5;28mlen\u001b[39m(full_algs))\n",
      "File \u001b[1;32m~\\AppData\\Local\\Temp\\ipykernel_11224\\1649276465.py:28\u001b[0m, in \u001b[0;36mgen_full_algs\u001b[1;34m(search_depth, table_depth, cubestate, move_transition, start_grips, allowed_moves, skip_U, prnt, categorize, category_state, return_full_alg_list, remove_regrips)\u001b[0m\n\u001b[0;32m     26\u001b[0m start_grips_table \u001b[38;5;241m=\u001b[39m (np\u001b[38;5;241m.\u001b[39marray(\u001b[38;5;28mrange\u001b[39m(\u001b[38;5;28mlen\u001b[39m(move_transition)))\u001b[38;5;241m+\u001b[39m\u001b[38;5;241m1\u001b[39m)[:\u001b[38;5;241m-\u001b[39m\u001b[38;5;241m1\u001b[39m]\n\u001b[0;32m     27\u001b[0m search_algs \u001b[38;5;241m=\u001b[39m gen_algs_cumulative(max_length \u001b[38;5;241m=\u001b[39m table_depth, start_grips \u001b[38;5;241m=\u001b[39m start_grips_table, move_transition \u001b[38;5;241m=\u001b[39m move_transition, allowed_moves \u001b[38;5;241m=\u001b[39m allowed_moves, prnt \u001b[38;5;241m=\u001b[39m prnt)\n\u001b[1;32m---> 28\u001b[0m table \u001b[38;5;241m=\u001b[39m \u001b[43mgen_table\u001b[49m\u001b[43m(\u001b[49m\u001b[43msearch_algs\u001b[49m\u001b[43m,\u001b[49m\u001b[43m \u001b[49m\u001b[43mcubestate\u001b[49m\u001b[43m,\u001b[49m\u001b[43m \u001b[49m\u001b[43mskip_U\u001b[49m\u001b[43m,\u001b[49m\u001b[43m \u001b[49m\u001b[43mprnt\u001b[49m\u001b[43m)\u001b[49m\n\u001b[0;32m     30\u001b[0m \u001b[38;5;28;01mif\u001b[39;00m table_depth \u001b[38;5;241m!=\u001b[39m search_depth \u001b[38;5;129;01mor\u001b[39;00m (\u001b[38;5;28mlen\u001b[39m(move_transition)\u001b[38;5;241m-\u001b[39m\u001b[38;5;241m1\u001b[39m) \u001b[38;5;241m>\u001b[39m \u001b[38;5;28mlen\u001b[39m(start_grips): \u001b[38;5;66;03m# if length is odd OR there are more grips than in start_grips, we need to generate the search algs seperately. We override the variable for less memory use\u001b[39;00m\n\u001b[0;32m     31\u001b[0m     \u001b[38;5;28mprint\u001b[39m(\u001b[38;5;124mf\u001b[39m\u001b[38;5;124m\"\u001b[39m\u001b[38;5;124m--- Initiating search alg genning up to length \u001b[39m\u001b[38;5;132;01m{\u001b[39;00msearch_depth\u001b[38;5;132;01m}\u001b[39;00m\u001b[38;5;124m. Previous algs cannot be reused if we want to follow the table ---\u001b[39m\u001b[38;5;124m\"\u001b[39m)\n",
      "File \u001b[1;32m~\\AppData\\Local\\Temp\\ipykernel_11224\\523246268.py:41\u001b[0m, in \u001b[0;36mgen_table\u001b[1;34m(search_algs, cubestate, skip_U, prnt, single_alg)\u001b[0m\n\u001b[0;32m     39\u001b[0m         \u001b[38;5;28;01melse\u001b[39;00m:\n\u001b[0;32m     40\u001b[0m             table[ID]\u001b[38;5;241m.\u001b[39mappend(alg)\n\u001b[1;32m---> 41\u001b[0m     cubestate \u001b[38;5;241m=\u001b[39m \u001b[43m_apply_int_moves\u001b[49m\u001b[43m(\u001b[49m\u001b[43mcubestate\u001b[49m\u001b[43m,\u001b[49m\u001b[43m \u001b[49m\u001b[43malg\u001b[49m\u001b[43m)\u001b[49m\n\u001b[0;32m     43\u001b[0m \u001b[38;5;28;01mif\u001b[39;00m prnt:\n\u001b[0;32m     44\u001b[0m     \u001b[38;5;28mprint\u001b[39m(\u001b[38;5;124mf\u001b[39m\u001b[38;5;124m\"\u001b[39m\u001b[38;5;124mTable generated in \u001b[39m\u001b[38;5;132;01m{\u001b[39;00mtime\u001b[38;5;241m.\u001b[39mtime()\u001b[38;5;241m-\u001b[39mt\u001b[38;5;132;01m:\u001b[39;00m\u001b[38;5;124m.2f\u001b[39m\u001b[38;5;132;01m}\u001b[39;00m\u001b[38;5;124m seconds. Size: \u001b[39m\u001b[38;5;132;01m{\u001b[39;00m\u001b[38;5;28mlen\u001b[39m(table)\u001b[38;5;132;01m}\u001b[39;00m\u001b[38;5;124m consisting of \u001b[39m\u001b[38;5;132;01m{\u001b[39;00mk\u001b[38;5;132;01m}\u001b[39;00m\u001b[38;5;124m algs\u001b[39m\u001b[38;5;124m\"\u001b[39m)\n",
      "File \u001b[1;32m~\\AppData\\Local\\Packages\\PythonSoftwareFoundation.Python.3.11_qbz5n2kfra8p0\\LocalCache\\local-packages\\Python311\\site-packages\\numba\\core\\serialize.py:30\u001b[0m, in \u001b[0;36m_numba_unpickle\u001b[1;34m(address, bytedata, hashed)\u001b[0m\n\u001b[0;32m     26\u001b[0m \u001b[38;5;66;03m# Keep unpickled object via `numba_unpickle` alive.\u001b[39;00m\n\u001b[0;32m     27\u001b[0m _unpickled_memo \u001b[38;5;241m=\u001b[39m {}\n\u001b[1;32m---> 30\u001b[0m \u001b[38;5;28;01mdef\u001b[39;00m \u001b[38;5;21m_numba_unpickle\u001b[39m(address, bytedata, hashed):\n\u001b[0;32m     31\u001b[0m \u001b[38;5;250m    \u001b[39m\u001b[38;5;124;03m\"\"\"Used by `numba_unpickle` from _helperlib.c\u001b[39;00m\n\u001b[0;32m     32\u001b[0m \n\u001b[0;32m     33\u001b[0m \u001b[38;5;124;03m    Parameters\u001b[39;00m\n\u001b[1;32m   (...)\u001b[0m\n\u001b[0;32m     42\u001b[0m \u001b[38;5;124;03m        unpickled object\u001b[39;00m\n\u001b[0;32m     43\u001b[0m \u001b[38;5;124;03m    \"\"\"\u001b[39;00m\n\u001b[0;32m     44\u001b[0m     key \u001b[38;5;241m=\u001b[39m (address, hashed)\n",
      "\u001b[1;31mKeyboardInterrupt\u001b[0m: "
     ]
    }
   ],
   "source": [
    "# Genning PLLs using R U F\n",
    "search_depth = 8\n",
    "table_depth = 8\n",
    "# PLL\n",
    "cubestate = np.array([0,0,0,1,1,1,1,1,1,0,0,0,2,2,2,2,2,2,0,0,0,3,3,3,3,3,3,0,0,0,4,4,4,4,4,4,5,5,5,5,5,5,5,5,5,6,6,6,6,6,6,6,6,6])\n",
    "move_transition = transition_table\n",
    "start_grips = np.array([1,2,3])\n",
    "# moves                   R  R2 R' L  L2 L' r  r2 r' l  l2 l' M  M2 M' U  U2 U' D  D2 D' u  u2 u' d  d2 d' E  E2 E' F  F2 F' B  B2 B' f  f2 f' b  b2 b' S  S2 S'\n",
    "allowed_moves = np.array([10, 2,10, 0, 0, 0, 0, 0, 0, 0, 0, 0, 0, 0, 0,10, 2,10, 0, 0, 0, 0, 0, 0, 0, 0, 0, 0, 0, 0, 2, 1, 2, 0, 0, 0, 0, 0, 0, 0, 0, 0, 0, 0, 0])\n",
    "skip_U = True\n",
    "prnt = True\n",
    "categorize = True\n",
    "category_state=np.array([1,1,1,1,1,1,1,1,1,2,2,2,2,2,2,2,2,2,3,3,3,3,3,3,3,3,3,4,4,4,4,4,4,4,4,4,5,5,5,5,5,5,5,5,5,6,6,6,6,6,6,6,6,6])\n",
    "return_full_alg_list = False\n",
    "remove_regrips = False\n",
    "\n",
    "full_algs = gen_full_algs(search_depth, table_depth, cubestate, move_transition, start_grips, allowed_moves, skip_U, prnt, categorize, category_state, return_full_alg_list, remove_regrips)\n",
    "print(len(full_algs))"
   ]
  },
  {
   "cell_type": "code",
   "execution_count": null,
   "id": "2a3471db",
   "metadata": {},
   "outputs": [],
   "source": [
    "keys = full_algs.keys()\n",
    "for key in keys:\n",
    "    print(key)\n",
    "    print(full_algs[key][:10])"
   ]
  },
  {
   "cell_type": "code",
   "execution_count": null,
   "id": "0c21c78f",
   "metadata": {},
   "outputs": [],
   "source": [
    "state223 = np.array([0,0,0,1,0,0,1,0,0,0,0,0,0,2,0,0,0,0,0,0,0,0,0,3,0,0,3,0,0,0,4,4,4,4,4,4,0,0,0,0,0,0,0,0,0,6,0,0,6,0,0,6,0,0])\n",
    "\n",
    "search_depth = 4\n",
    "table_depth = 5\n",
    "\n",
    "search_algs, table = generic_solver_setup(state223, search_depth, table_depth, transition_table, start_grips = np.array([1,2,3,4,5,6]))"
   ]
  },
  {
   "cell_type": "code",
   "execution_count": null,
   "id": "fda17926",
   "metadata": {},
   "outputs": [],
   "source": [
    "scramble = \"L' D' R' B2 R2 U B2 F2 R2 U L2 R2 U' B L' B2 F' L U\"\n",
    "generic_solver(scramble, state223, search_algs, table, solve_CP=True)"
   ]
  },
  {
   "cell_type": "code",
   "execution_count": null,
   "id": "38b8814c",
   "metadata": {},
   "outputs": [],
   "source": [
    "cube_CP = Cube(np.array([7,0,8,0,0,0,1,0,3,8,0,6,0,0,0,3,0,4,6,0,5,0,0,0,4,0,2,5,0,7,0,0,0,2,0,1,5,0,6,0,0,0,7,0,8,1,0,3,0,0,0,2,0,4]))\n",
    "\n",
    "cube_CP.apply_moves(\"R U R U2 R' U2 F R F'\")\n",
    "ID2 = id_from_state(cube_CP.state)\n",
    "print(ID2 in states2gen)"
   ]
  },
  {
   "cell_type": "code",
   "execution_count": null,
   "id": "13e6f02e",
   "metadata": {},
   "outputs": [],
   "source": [
    "cubestate = np.array([0,1,2,3,4,5,6,7,8,9,10,11,12,13,14,15,16,17,18,19,20,21,22,23,24,25,26,27,28,29,30,31,32,33,34,35,36,37,38,39,40,41,42,43,44,45,46,47,48,49,50,51,52,53])\n",
    "cube = Cube(cubestate)\n",
    "print(cube)"
   ]
  },
  {
   "cell_type": "code",
   "execution_count": null,
   "id": "04aa9726",
   "metadata": {},
   "outputs": [],
   "source": []
  },
  {
   "cell_type": "code",
   "execution_count": 6,
   "id": "67a922ae",
   "metadata": {},
   "outputs": [
    {
     "name": "stdout",
     "output_type": "stream",
     "text": [
      "--- Initiating alg genning up to length 14 ---\n",
      "Parameters:\n",
      "  - cubestate = \n",
      "         6 6 6\n",
      "         6 0 6\n",
      "         6 6 6\n",
      "4 4 4  1 0 1  2 2 2  3 0 3\n",
      "4 0 4  1 0 1  2 0 2  3 0 3\n",
      "4 4 4  1 1 1  2 2 2  3 3 3\n",
      "         5 5 5\n",
      "         5 0 5\n",
      "         5 5 5\n",
      "\n",
      "  - start_grips = 1\n",
      "  - skip_U = True\n",
      "  - prnt = True\n",
      "Genning search algs...\n",
      "Algs of length 1 genned. Time spent: 0.00s...\n",
      "Algs of length 2 genned. Time spent: 0.00s...\n",
      "Algs of length 3 genned. Time spent: 0.00s...\n",
      "Algs of length 4 genned. Time spent: 0.00s...\n",
      "Algs of length 5 genned. Time spent: 0.03s...\n",
      "Algs of length 6 genned. Time spent: 0.26s...\n",
      "Algs of length 7 genned. Time spent: 2.11s...\n",
      "Done genning algs. Making into np array. Time spent: 2.11s\n",
      "Genning table based on 9345676 algs...\n"
     ]
    },
    {
     "ename": "KeyboardInterrupt",
     "evalue": "",
     "output_type": "error",
     "traceback": [
      "\u001b[1;31m---------------------------------------------------------------------------\u001b[0m",
      "\u001b[1;31mKeyboardInterrupt\u001b[0m                         Traceback (most recent call last)",
      "Cell \u001b[1;32mIn[6], line 17\u001b[0m\n\u001b[0;32m     14\u001b[0m return_full_alg_list \u001b[38;5;241m=\u001b[39m \u001b[38;5;28;01mFalse\u001b[39;00m\n\u001b[0;32m     15\u001b[0m remove_regrips \u001b[38;5;241m=\u001b[39m \u001b[38;5;28;01mFalse\u001b[39;00m\n\u001b[1;32m---> 17\u001b[0m full_algs \u001b[38;5;241m=\u001b[39m \u001b[43mgen_full_algs\u001b[49m\u001b[43m(\u001b[49m\u001b[43msearch_depth\u001b[49m\u001b[43m,\u001b[49m\u001b[43m \u001b[49m\u001b[43mtable_depth\u001b[49m\u001b[43m,\u001b[49m\u001b[43m \u001b[49m\u001b[43mcubestate\u001b[49m\u001b[43m,\u001b[49m\u001b[43m \u001b[49m\u001b[43mmove_transition\u001b[49m\u001b[43m,\u001b[49m\u001b[43m \u001b[49m\u001b[43mstart_grips\u001b[49m\u001b[43m,\u001b[49m\u001b[43m \u001b[49m\u001b[43mallowed_moves\u001b[49m\u001b[43m,\u001b[49m\u001b[43m \u001b[49m\u001b[43mskip_U\u001b[49m\u001b[43m,\u001b[49m\u001b[43m \u001b[49m\u001b[43mprnt\u001b[49m\u001b[43m,\u001b[49m\u001b[43m \u001b[49m\u001b[43mcategorize\u001b[49m\u001b[43m,\u001b[49m\u001b[43m \u001b[49m\u001b[43mcategory_state\u001b[49m\u001b[43m,\u001b[49m\u001b[43m \u001b[49m\u001b[43mreturn_full_alg_list\u001b[49m\u001b[43m,\u001b[49m\u001b[43m \u001b[49m\u001b[43mremove_regrips\u001b[49m\u001b[43m)\u001b[49m\n\u001b[0;32m     18\u001b[0m \u001b[38;5;28mprint\u001b[39m(\u001b[38;5;28mlen\u001b[39m(full_algs))\n",
      "File \u001b[1;32m~\\AppData\\Local\\Temp\\ipykernel_11224\\1649276465.py:28\u001b[0m, in \u001b[0;36mgen_full_algs\u001b[1;34m(search_depth, table_depth, cubestate, move_transition, start_grips, allowed_moves, skip_U, prnt, categorize, category_state, return_full_alg_list, remove_regrips)\u001b[0m\n\u001b[0;32m     26\u001b[0m start_grips_table \u001b[38;5;241m=\u001b[39m (np\u001b[38;5;241m.\u001b[39marray(\u001b[38;5;28mrange\u001b[39m(\u001b[38;5;28mlen\u001b[39m(move_transition)))\u001b[38;5;241m+\u001b[39m\u001b[38;5;241m1\u001b[39m)[:\u001b[38;5;241m-\u001b[39m\u001b[38;5;241m1\u001b[39m]\n\u001b[0;32m     27\u001b[0m search_algs \u001b[38;5;241m=\u001b[39m gen_algs_cumulative(max_length \u001b[38;5;241m=\u001b[39m table_depth, start_grips \u001b[38;5;241m=\u001b[39m start_grips_table, move_transition \u001b[38;5;241m=\u001b[39m move_transition, allowed_moves \u001b[38;5;241m=\u001b[39m allowed_moves, prnt \u001b[38;5;241m=\u001b[39m prnt)\n\u001b[1;32m---> 28\u001b[0m table \u001b[38;5;241m=\u001b[39m \u001b[43mgen_table\u001b[49m\u001b[43m(\u001b[49m\u001b[43msearch_algs\u001b[49m\u001b[43m,\u001b[49m\u001b[43m \u001b[49m\u001b[43mcubestate\u001b[49m\u001b[43m,\u001b[49m\u001b[43m \u001b[49m\u001b[43mskip_U\u001b[49m\u001b[43m,\u001b[49m\u001b[43m \u001b[49m\u001b[43mprnt\u001b[49m\u001b[43m)\u001b[49m\n\u001b[0;32m     30\u001b[0m \u001b[38;5;28;01mif\u001b[39;00m table_depth \u001b[38;5;241m!=\u001b[39m search_depth \u001b[38;5;129;01mor\u001b[39;00m (\u001b[38;5;28mlen\u001b[39m(move_transition)\u001b[38;5;241m-\u001b[39m\u001b[38;5;241m1\u001b[39m) \u001b[38;5;241m>\u001b[39m \u001b[38;5;28mlen\u001b[39m(start_grips): \u001b[38;5;66;03m# if length is odd OR there are more grips than in start_grips, we need to generate the search algs seperately. We override the variable for less memory use\u001b[39;00m\n\u001b[0;32m     31\u001b[0m     \u001b[38;5;28mprint\u001b[39m(\u001b[38;5;124mf\u001b[39m\u001b[38;5;124m\"\u001b[39m\u001b[38;5;124m--- Initiating search alg genning up to length \u001b[39m\u001b[38;5;132;01m{\u001b[39;00msearch_depth\u001b[38;5;132;01m}\u001b[39;00m\u001b[38;5;124m. Previous algs cannot be reused if we want to follow the table ---\u001b[39m\u001b[38;5;124m\"\u001b[39m)\n",
      "File \u001b[1;32m~\\AppData\\Local\\Temp\\ipykernel_11224\\523246268.py:25\u001b[0m, in \u001b[0;36mgen_table\u001b[1;34m(search_algs, cubestate, skip_U, prnt, single_alg)\u001b[0m\n\u001b[0;32m     23\u001b[0m     \u001b[38;5;28mprint\u001b[39m(\u001b[38;5;124mf\u001b[39m\u001b[38;5;124m\"\u001b[39m\u001b[38;5;132;01m{\u001b[39;00mi\u001b[38;5;132;01m}\u001b[39;00m\u001b[38;5;124m (\u001b[39m\u001b[38;5;132;01m{\u001b[39;00mi\u001b[38;5;241m/\u001b[39m\u001b[38;5;28mlen\u001b[39m(search_algs)\u001b[38;5;241m*\u001b[39m\u001b[38;5;241m100\u001b[39m\u001b[38;5;132;01m:\u001b[39;00m\u001b[38;5;124m.2f\u001b[39m\u001b[38;5;132;01m}\u001b[39;00m\u001b[38;5;124m%) algs added in \u001b[39m\u001b[38;5;132;01m{\u001b[39;00mtime\u001b[38;5;241m.\u001b[39mtime()\u001b[38;5;241m-\u001b[39mt\u001b[38;5;132;01m:\u001b[39;00m\u001b[38;5;124m.2f\u001b[39m\u001b[38;5;132;01m}\u001b[39;00m\u001b[38;5;124m seconds...\u001b[39m\u001b[38;5;124m\"\u001b[39m)\n\u001b[0;32m     24\u001b[0m \u001b[38;5;66;03m# check that we don't have the trivial alg:\u001b[39;00m\n\u001b[1;32m---> 25\u001b[0m \u001b[38;5;28;01mif\u001b[39;00m \u001b[43mnp\u001b[49m\u001b[38;5;241;43m.\u001b[39;49m\u001b[43mall\u001b[49m\u001b[43m(\u001b[49m\u001b[43malg\u001b[49m\u001b[43m \u001b[49m\u001b[38;5;241;43m==\u001b[39;49m\u001b[43m \u001b[49m\u001b[38;5;241;43m-\u001b[39;49m\u001b[38;5;241;43m1\u001b[39;49m\u001b[43m)\u001b[49m:\n\u001b[0;32m     26\u001b[0m     \u001b[38;5;28;01mcontinue\u001b[39;00m\n\u001b[0;32m     27\u001b[0m \u001b[38;5;66;03m# check that we don't end with U*\u001b[39;00m\n",
      "\u001b[1;31mKeyboardInterrupt\u001b[0m: "
     ]
    }
   ],
   "source": [
    "# parity for void cube:\n",
    "cubestate = np.array([1,0,1,1,0,1,1,1,1,2,2,2,2,0,2,2,2,2,3,0,3,3,0,3,3,3,3,4,4,4,4,0,4,4,4,4,6,6,6,6,0,6,6,6,6,5,5,5,5,0,5,5,5,5])\n",
    "category_state = np.array([1,1,1,1,0,1,1,1,1,2,2,2,2,0,2,2,2,2,3,3,3,3,0,3,3,3,3,4,4,4,4,0,4,4,4,4,6,6,6,6,0,6,6,6,6,5,5,5,5,0,5,5,5,5])\n",
    "\n",
    "search_depth = 7\n",
    "table_depth = 7\n",
    "move_transition = transition_table\n",
    "start_grips = np.array([1])\n",
    "# moves                   R  R2 R' L  L2 L' r  r2 r' l  l2 l' M  M2 M' U  U2 U' D  D2 D' u  u2 u' d  d2 d' E  E2 E' F  F2 F' B  B2 B' f  f2 f' b  b2 b' S  S2 S'\n",
    "allowed_moves = np.array([ 4, 2, 4, 0, 0, 0, 2, 1, 2, 1, 0, 1, 2, 1, 2, 4, 2, 4, 0, 0, 0, 0, 0, 0, 0, 0, 0, 0, 0, 0, 1, 0, 1, 0, 0, 0, 0, 0, 0, 0, 0, 0, 2, 0, 2])\n",
    "skip_U = True\n",
    "prnt = True\n",
    "categorize = True\n",
    "return_full_alg_list = False\n",
    "remove_regrips = False\n",
    "\n",
    "full_algs = gen_full_algs(search_depth, table_depth, cubestate, move_transition, start_grips, allowed_moves, skip_U, prnt, categorize, category_state, return_full_alg_list, remove_regrips)\n",
    "print(len(full_algs))"
   ]
  },
  {
   "cell_type": "code",
   "execution_count": 24,
   "id": "a19cd81f",
   "metadata": {},
   "outputs": [
    {
     "name": "stdout",
     "output_type": "stream",
     "text": [
      "1. r U' S' U r2 U' R2 U' S' U r' R' U r\n"
     ]
    }
   ],
   "source": [
    "for i, alg in enumerate(full_algs[list(full_algs.keys())[1]]):\n",
    "    print(f\"{i+1}. {alg}\")"
   ]
  }
 ],
 "metadata": {
  "kernelspec": {
   "display_name": "Python 3",
   "language": "python",
   "name": "python3"
  },
  "language_info": {
   "codemirror_mode": {
    "name": "ipython",
    "version": 3
   },
   "file_extension": ".py",
   "mimetype": "text/x-python",
   "name": "python",
   "nbconvert_exporter": "python",
   "pygments_lexer": "ipython3",
   "version": "3.11.9"
  }
 },
 "nbformat": 4,
 "nbformat_minor": 5
}
