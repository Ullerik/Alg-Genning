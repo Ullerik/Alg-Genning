{
 "cells": [
  {
   "cell_type": "code",
   "execution_count": 1,
   "id": "27320e77",
   "metadata": {},
   "outputs": [
    {
     "name": "stdout",
     "output_type": "stream",
     "text": [
      "Support algs imported!\n",
      "Cube initiated\n",
      "Gripbased alg genning initiated\n"
     ]
    }
   ],
   "source": [
    "import numpy as np\n",
    "%run alg_genning.ipynb"
   ]
  },
  {
   "cell_type": "code",
   "execution_count": 2,
   "id": "4daa2967",
   "metadata": {},
   "outputs": [],
   "source": [
    "with open('move_transition_table.txt', 'r') as f:\n",
    "    lines = f.readlines()\n",
    "    lines = lines[1:] # skip the first line\n",
    "\n",
    "# split each line by tab\n",
    "transition_table = np.array([list(map(int, line.split('\\t'))) for line in lines if line.strip() and not line.startswith('#')])\n",
    "transition_table = np.vstack((np.zeros(transition_table.shape[1]), transition_table))\n",
    "transition_table = transition_table.astype(int)"
   ]
  },
  {
   "cell_type": "code",
   "execution_count": 3,
   "id": "a7aa7177",
   "metadata": {},
   "outputs": [],
   "source": [
    "transition_table = np.array([ \n",
    "#   [ 0, 1, 2, 3, 4, 5, 6, 7, 8, 9,10,11,12,13,14,15,16,17,18,19,20,21,22,23,24,25,26,27,28,29,30,31,32,33,34,35,36,37,38,39,40,41,42,43,44],\n",
    "    [ 0, 0, 0, 0, 0, 0, 0, 0, 0, 0, 0, 0, 0, 0, 0, 0, 0, 0, 0, 0, 0, 0, 0, 0, 0, 0, 0, 0, 0, 0, 0, 0, 0, 0, 0, 0, 0, 0, 0, 0, 0, 0, 0, 0, 0],\n",
    "\t# Start (homegrip)\n",
    "#   [ R,R2,R', L,L2,L', r,r2,r', l,l2,l', M,M2,M', U,U2,U', D,D2,D', u,u2,u', d,d2,d', E,E2,E', F,F2,F', B,B2,B', f,f2,f', b,b2,b', S,S2,S'],\n",
    "    [ 1, 1, 1, 1, 1, 1, 0, 0, 0, 0, 0, 0, 0, 0, 0, 1, 1, 1, 1, 1, 1, 0, 0, 0, 0, 0, 0, 0, 0, 0, 1, 1, 1, 1, 1, 1, 0, 0, 0, 0, 0, 0, 0, 0, 0],\n",
    "])"
   ]
  },
  {
   "cell_type": "code",
   "execution_count": 5,
   "id": "16dabc20",
   "metadata": {},
   "outputs": [],
   "source": [
    "transition_table = np.array([ \n",
    "#   [ 0, 1, 2, 3, 4, 5, 6, 7, 8, 9,10,11,12,13,14,15,16,17,18,19,20,21,22,23,24,25,26,27,28,29,30,31,32,33,34,35,36,37,38,39,40,41,42,43,44],\n",
    "    [ 0, 0, 0, 0, 0, 0, 0, 0, 0, 0, 0, 0, 0, 0, 0, 0, 0, 0, 0, 0, 0, 0, 0, 0, 0, 0, 0, 0, 0, 0, 0, 0, 0, 0, 0, 0, 0, 0, 0, 0, 0, 0, 0, 0, 0],\n",
    "\t# Start (homegrip)\n",
    "#   [ R,R2,R', L,L2,L', r,r2,r', l,l2,l', M,M2,M', U,U2,U', D,D2,D', u,u2,u', d,d2,d', E,E2,E', F,F2,F', B,B2,B', f,f2,f', b,b2,b', S,S2,S'],\n",
    "    [ 2, 0, 3, 1, 0, 1, 2, 0, 3, 0, 0, 0, 0, 0, 0, 1, 1, 1, 1, 1, 1, 0, 0, 0, 0, 0, 0, 0, 0, 0, 1, 0, 1, 0, 0, 0, 0, 0, 0, 0, 0, 0, 0, 0, 0], # <>\n",
    "    [ 0, 3, 1, 0, 0, 0, 0, 3, 0, 0, 0, 0, 0, 0, 0, 2, 2, 2, 0, 0, 0, 0, 0, 0, 0, 0, 0, 0, 0, 0, 0, 2, 2, 0, 0, 2, 0, 0, 0, 0, 0, 0, 0, 0, 0], # <R>\n",
    "    [ 1, 2, 0, 0, 0, 0, 1, 2, 0, 0, 0, 0, 0, 0, 0, 3, 3, 3, 3, 3, 3, 0, 0, 0, 0, 0, 0, 0, 0, 0, 3, 3, 3, 0, 0, 0, 0, 0, 0, 0, 0, 0, 0, 0, 0], # <R'\n",
    "])"
   ]
  },
  {
   "cell_type": "code",
   "execution_count": 4,
   "id": "923278eb",
   "metadata": {},
   "outputs": [
    {
     "name": "stdout",
     "output_type": "stream",
     "text": [
      "Genning search algs...\n",
      "Algs of length 1 genned. Time spent: 1.90s...\n",
      "Algs of length 2 genned. Time spent: 1.90s...\n",
      "Algs of length 3 genned. Time spent: 1.90s...\n",
      "Algs of length 4 genned. Time spent: 1.91s...\n",
      "Done genning algs. Making into np array. Time spent: 1.91s\n",
      "Genning table based on 46750 algs...\n",
      "4675 (10.00%) algs added in 0.24 seconds...\n",
      "9350 (20.00%) algs added in 0.30 seconds...\n",
      "14025 (30.00%) algs added in 0.37 seconds...\n",
      "18700 (40.00%) algs added in 0.43 seconds...\n",
      "23375 (50.00%) algs added in 0.50 seconds...\n",
      "28050 (60.00%) algs added in 0.56 seconds...\n",
      "32725 (70.00%) algs added in 0.63 seconds...\n",
      "37400 (80.00%) algs added in 0.69 seconds...\n",
      "42075 (90.00%) algs added in 0.77 seconds...\n",
      "Table generated in 0.83 seconds. Size: 23673 consisting of 46749 algs\n",
      "Genning search algs...\n",
      "Algs of length 1 genned. Time spent: 0.00s...\n",
      "Algs of length 2 genned. Time spent: 0.00s...\n",
      "Done genning algs. Making into np array. Time spent: 0.00s\n"
     ]
    }
   ],
   "source": [
    "# idea: set up generic solver to solve xcross in DBL\n",
    "\n",
    "state_xcross = np.array([0,0,0,0,1,0,0,1,0,0,0,0,0,2,0,0,2,0,0,0,0,0,3,3,0,3,3,0,0,0,4,4,0,4,4,0,0,0,0,0,0,0,0,0,0,0,6,0,6,6,6,6,6,0])\n",
    "\n",
    "search_depth = 2\n",
    "table_depth = 4\n",
    "# moves                   R  R2 R' L  L2 L' r  r2 r' l  l2 l' M  M2 M' U  U2 U' D  D2 D' u  u2 u' d  d2 d' E  E2 E' F  F2 F' B  B2 B' f  f2 f' b  b2 b' S  S2 S'\n",
    "# allowed_moves = np.array([10,10,10,10,10,10, 0, 0, 0, 0, 0, 0, 0, 0, 0,10,10,10,10,10,10, 0, 0, 0, 0, 0, 0, 0, 0, 0,10,10,10,10,10,10, 0, 0, 0, 0, 0, 0, 0, 0, 0])\n",
    "allowed_moves = np.full(45,10,dtype=int)\n",
    "\n",
    "search_algs, table = generic_solver_setup(state_xcross, search_depth, table_depth, transition_table, allowed_moves=allowed_moves, start_grips = np.array([1]))"
   ]
  },
  {
   "cell_type": "code",
   "execution_count": 5,
   "id": "361ab71a",
   "metadata": {},
   "outputs": [
    {
     "data": {
      "text/plain": [
       "(\"L' U2 R2 B' F'\", 5)"
      ]
     },
     "execution_count": 5,
     "metadata": {},
     "output_type": "execute_result"
    }
   ],
   "source": [
    "def find_xcross(scramble, search_algs, table, rotate = True):\n",
    "    # hold your cross color down. \n",
    "    # we can find xcross in DBL, so we need to convert the scramble so we can search for it in DFL, DBR, and DFR\n",
    "    best_solve = None\n",
    "    best_length = 100\n",
    "    for rot in [\"\",\"y\",\"y2\",\"y'\"] if rotate else [\"\"]:\n",
    "        rot_scramble = (rot + \" \" + scramble + \" \" + inverse_alg(rot)).strip()\n",
    "        solve = generic_solver(rot_scramble, state_xcross, search_algs, table, string_alg = False)\n",
    "        if solve is None:\n",
    "            continue\n",
    "        length = len(solve)\n",
    "        if length < best_length:\n",
    "            best_length = length\n",
    "            best_solve = (inverse_alg(rot) + \" \" + array_to_alg(solve)).strip()\n",
    "    return best_solve, best_length\n",
    "\n",
    "scramble = \"B F' L' F2 U2 L2 R' B2 L F' R2 D R U2 L U2 D L B2 R2\"\n",
    "find_xcross(scramble, search_algs, table, rotate = True)"
   ]
  },
  {
   "cell_type": "code",
   "execution_count": 18,
   "id": "59e67828",
   "metadata": {},
   "outputs": [
    {
     "data": {
      "image/png": "[encoded data removed]",
      "text/plain": [
       "<Figure size 400x300 with 1 Axes>"
      ]
     },
     "metadata": {},
     "output_type": "display_data"
    },
    {
     "name": "stdout",
     "output_type": "stream",
     "text": [
      "B R2 L' U D R' L B' D' R2 D' U2 B L B F' R2 L' D U2\n"
     ]
    }
   ],
   "source": [
    "def get_n_move_scramble(n):\n",
    "    # assumes you have search_algs and table already set up such that the total length is n\n",
    "    \n",
    "    while True:\n",
    "        scramble = gen_random_alg(20)\n",
    "        solve, length = find_xcross(scramble, search_algs, table)\n",
    "        if solve is None:\n",
    "            continue\n",
    "        if length == n:\n",
    "            return scramble, solve, length\n",
    "        \n",
    "scramble, solve, length = get_n_move_scramble(5)\n",
    "c = Cube(np.array([1,1,1,1,1,1,1,1,1,4,4,4,4,4,4,4,4,4,3,3,3,3,3,3,3,3,3,2,2,2,2,2,2,2,2,2,6,6,6,6,6,6,6,6,6,5,5,5,5,5,5,5,5,5]))\n",
    "c.apply_moves(scramble)\n",
    "c.plot()\n",
    "print(scramble)"
   ]
  },
  {
   "cell_type": "code",
   "execution_count": 17,
   "id": "70dc66e6",
   "metadata": {},
   "outputs": [
    {
     "name": "stdout",
     "output_type": "stream",
     "text": [
      "y D F L2 R' B (5 moves)\n"
     ]
    }
   ],
   "source": [
    "print(f\"{solve} ({length} moves)\")"
   ]
  },
  {
   "cell_type": "markdown",
   "id": "b168e508",
   "metadata": {},
   "source": [
    "# CPFB Finder"
   ]
  },
  {
   "cell_type": "code",
   "execution_count": 11,
   "id": "5eac2ed7",
   "metadata": {},
   "outputs": [],
   "source": [
    "transition_table_CPFB = np.array([ \n",
    "#   [ 0, 1, 2, 3, 4, 5, 6, 7, 8, 9,10,11,12,13,14,15,16,17,18,19,20,21,22,23,24,25,26,27,28,29,30,31,32,33,34,35,36,37,38,39,40,41,42,43,44],\n",
    "    [ 0, 0, 0, 0, 0, 0, 0, 0, 0, 0, 0, 0, 0, 0, 0, 0, 0, 0, 0, 0, 0, 0, 0, 0, 0, 0, 0, 0, 0, 0, 0, 0, 0, 0, 0, 0, 0, 0, 0, 0, 0, 0, 0, 0, 0],\n",
    "\t# Start (homegrip)\n",
    "#   [ R,R2,R', L,L2,L', r,r2,r', l,l2,l', M,M2,M', U,U2,U', D,D2,D', u,u2,u', d,d2,d', E,E2,E', F,F2,F', B,B2,B', f,f2,f', b,b2,b', S,S2,S'],\n",
    "    [ 1, 1, 1, 0, 0, 0, 1, 1, 1, 0, 0, 0, 0, 0, 0, 1, 1, 1, 0, 0, 0, 1, 1, 1, 0, 0, 0, 0, 0, 0, 1, 1, 1, 0, 0, 0, 1, 1, 1, 0, 0, 0, 1, 1, 1],\n",
    "])"
   ]
  },
  {
   "cell_type": "code",
   "execution_count": 125,
   "id": "b0caf8fb",
   "metadata": {},
   "outputs": [
    {
     "name": "stdout",
     "output_type": "stream",
     "text": [
      "Genning search algs...\n",
      "Algs of length 1 genned. Time spent: 0.00s...\n",
      "Algs of length 2 genned. Time spent: 0.00s...\n",
      "Algs of length 3 genned. Time spent: 0.00s...\n",
      "Done genning algs. Making into np array. Time spent: 0.00s\n",
      "Genning table based on 5323 algs...\n",
      "532 (9.99%) algs added in 0.01 seconds...\n",
      "1064 (19.99%) algs added in 0.02 seconds...\n",
      "1596 (29.98%) algs added in 0.03 seconds...\n",
      "2128 (39.98%) algs added in 0.04 seconds...\n",
      "2660 (49.97%) algs added in 0.05 seconds...\n",
      "3192 (59.97%) algs added in 0.06 seconds...\n",
      "3724 (69.96%) algs added in 0.07 seconds...\n",
      "4256 (79.95%) algs added in 0.07 seconds...\n",
      "4788 (89.95%) algs added in 0.08 seconds...\n",
      "5320 (99.94%) algs added in 0.09 seconds...\n",
      "Table generated in 0.09 seconds. Size: 1587 consisting of 5322 algs\n",
      "Genning search algs...\n",
      "Algs of length 1 genned. Time spent: 0.00s...\n",
      "Algs of length 2 genned. Time spent: 0.00s...\n",
      "Done genning algs. Making into np array. Time spent: 0.00s\n"
     ]
    }
   ],
   "source": [
    "state_FB = np.array([0,0,0,1,0,0,1,0,0,0,0,0,0,0,0,0,0,0,0,0,0,0,0,3,0,0,3,0,0,0,4,4,4,4,4,4,0,0,0,0,0,0,0,0,0,6,0,0,6,0,0,6,0,0])\n",
    "\n",
    "search_depth = 2\n",
    "table_depth = 3\n",
    "# moves                   R  R2 R' L  L2 L' r  r2 r' l  l2 l' M  M2 M' U  U2 U' D  D2 D' u  u2 u' d  d2 d' E  E2 E' F  F2 F' B  B2 B' f  f2 f' b  b2 b' S  S2 S'\n",
    "allowed_moves = np.array([ 9, 9, 9, 0, 0, 0, 9, 9, 9, 0, 0, 0, 0, 0, 0, 9, 9, 9, 0, 0, 0, 9, 9, 9, 0, 0, 0, 0, 0, 0, 1, 1, 1, 0, 0, 0, 1, 1, 1, 0, 0, 0, 9, 9, 9])\n",
    "allowed_moves = np.full(45,10,dtype=int)\n",
    "\n",
    "search_algs_CPFB, table_CPFB = generic_solver_setup(state_FB, search_depth, table_depth, transition_table_CPFB, allowed_moves=allowed_moves, start_grips = np.array([1]))"
   ]
  },
  {
   "cell_type": "code",
   "execution_count": 136,
   "id": "6a7b2db0",
   "metadata": {},
   "outputs": [
    {
     "name": "stdout",
     "output_type": "stream",
     "text": [
      "F' R' S2 f' r F2 U2 f' F U2 F2 u2 F' R2 f2 r2 F' r2\n"
     ]
    }
   ],
   "source": [
    "def get_n_move_CPFB(n, scramble_length=20, search_algs_CPFB=search_algs_CPFB, table_CPFB=table_CPFB, one_F=False):\n",
    "    # assumes you have search_algs and table already set up such that the total length is n\n",
    "    \n",
    "    while True:\n",
    "        scramble = transition_scrambler(scramble_length, transition_table_CPFB)\n",
    "        scramble = array_to_alg(scramble)\n",
    "        solve = generic_solver(scramble, state_FB, search_algs_CPFB, table_CPFB, string_alg = False, solve_CP = True)\n",
    "        if solve is None:\n",
    "            continue\n",
    "        if one_F:\n",
    "            # check if there are more than 1 F/f moves in the solution:\n",
    "            s = array_to_alg(solve)\n",
    "            Fs = s.count(\"F\") + s.count(\"f\")\n",
    "            if Fs > 1:\n",
    "                continue\n",
    "        length = len(solve)\n",
    "        if length == n:\n",
    "            return scramble, array_to_alg(solve), length\n",
    "        \n",
    "scramble, solve, length = get_n_move_CPFB(n=5, scramble_length=18, one_F=True)\n",
    "print(scramble)"
   ]
  },
  {
   "cell_type": "code",
   "execution_count": 137,
   "id": "bafca908",
   "metadata": {},
   "outputs": [
    {
     "name": "stdout",
     "output_type": "stream",
     "text": [
      "r F' R2 u S' (5 moves)\n"
     ]
    }
   ],
   "source": [
    "print(f\"{solve} ({length} moves)\")"
   ]
  }
 ],
 "metadata": {
  "kernelspec": {
   "display_name": "Python 3",
   "language": "python",
   "name": "python3"
  },
  "language_info": {
   "codemirror_mode": {
    "name": "ipython",
    "version": 3
   },
   "file_extension": ".py",
   "mimetype": "text/x-python",
   "name": "python",
   "nbconvert_exporter": "python",
   "pygments_lexer": "ipython3",
   "version": "3.11.9"
  }
 },
 "nbformat": 4,
 "nbformat_minor": 5
}
