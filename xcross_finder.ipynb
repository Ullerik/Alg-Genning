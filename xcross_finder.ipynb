{
 "cells": [
  {
   "cell_type": "code",
   "execution_count": 1,
   "id": "27320e77",
   "metadata": {},
   "outputs": [
    {
     "name": "stdout",
     "output_type": "stream",
     "text": [
      "Support algs imported!\n",
      "Cube initiated\n",
      "Gripbased alg genning initiated\n"
     ]
    }
   ],
   "source": [
    "import numpy as np\n",
    "%run alg_genning.ipynb"
   ]
  },
  {
   "cell_type": "code",
   "execution_count": 2,
   "id": "4daa2967",
   "metadata": {},
   "outputs": [],
   "source": [
    "with open('move_transition_table.txt', 'r') as f:\n",
    "    lines = f.readlines()\n",
    "    lines = lines[1:] # skip the first line\n",
    "\n",
    "# split each line by tab\n",
    "transition_table = np.array([list(map(int, line.split('\\t'))) for line in lines if line.strip() and not line.startswith('#')])\n",
    "transition_table = np.vstack((np.zeros(transition_table.shape[1]), transition_table))\n",
    "transition_table = transition_table.astype(int)"
   ]
  },
  {
   "cell_type": "code",
   "execution_count": 3,
   "id": "a7aa7177",
   "metadata": {},
   "outputs": [],
   "source": [
    "transition_table = np.array([ \n",
    "#   [ 0, 1, 2, 3, 4, 5, 6, 7, 8, 9,10,11,12,13,14,15,16,17,18,19,20,21,22,23,24,25,26,27,28,29,30,31,32,33,34,35,36,37,38,39,40,41,42,43,44],\n",
    "    [ 0, 0, 0, 0, 0, 0, 0, 0, 0, 0, 0, 0, 0, 0, 0, 0, 0, 0, 0, 0, 0, 0, 0, 0, 0, 0, 0, 0, 0, 0, 0, 0, 0, 0, 0, 0, 0, 0, 0, 0, 0, 0, 0, 0, 0],\n",
    "\t# Start (homegrip)\n",
    "#   [ R,R2,R', L,L2,L', r,r2,r', l,l2,l', M,M2,M', U,U2,U', D,D2,D', u,u2,u', d,d2,d', E,E2,E', F,F2,F', B,B2,B', f,f2,f', b,b2,b', S,S2,S'],\n",
    "    [ 1, 1, 1, 1, 1, 1, 0, 0, 0, 0, 0, 0, 0, 0, 0, 1, 1, 1, 1, 1, 1, 0, 0, 0, 0, 0, 0, 0, 0, 0, 1, 1, 1, 1, 1, 1, 0, 0, 0, 0, 0, 0, 0, 0, 0],\n",
    "])"
   ]
  },
  {
   "cell_type": "code",
   "execution_count": 4,
   "id": "16dabc20",
   "metadata": {},
   "outputs": [],
   "source": [
    "transition_table = np.array([ \n",
    "#   [ 0, 1, 2, 3, 4, 5, 6, 7, 8, 9,10,11,12,13,14,15,16,17,18,19,20,21,22,23,24,25,26,27,28,29,30,31,32,33,34,35,36,37,38,39,40,41,42,43,44],\n",
    "    [ 0, 0, 0, 0, 0, 0, 0, 0, 0, 0, 0, 0, 0, 0, 0, 0, 0, 0, 0, 0, 0, 0, 0, 0, 0, 0, 0, 0, 0, 0, 0, 0, 0, 0, 0, 0, 0, 0, 0, 0, 0, 0, 0, 0, 0],\n",
    "\t# Start (homegrip)\n",
    "#   [ R,R2,R', L,L2,L', r,r2,r', l,l2,l', M,M2,M', U,U2,U', D,D2,D', u,u2,u', d,d2,d', E,E2,E', F,F2,F', B,B2,B', f,f2,f', b,b2,b', S,S2,S'],\n",
    "    [ 2, 0, 3, 1, 0, 1, 2, 0, 3, 0, 0, 0, 0, 0, 0, 1, 1, 1, 1, 1, 1, 0, 0, 0, 0, 0, 0, 0, 0, 0, 1, 0, 1, 0, 0, 0, 0, 0, 0, 0, 0, 0, 0, 0, 0], # <>\n",
    "    [ 0, 3, 1, 0, 0, 0, 0, 3, 0, 0, 0, 0, 0, 0, 0, 2, 2, 2, 0, 0, 0, 0, 0, 0, 0, 0, 0, 0, 0, 0, 0, 2, 2, 0, 0, 2, 0, 0, 0, 0, 0, 0, 0, 0, 0], # <R>\n",
    "    [ 1, 2, 0, 0, 0, 0, 1, 2, 0, 0, 0, 0, 0, 0, 0, 3, 3, 3, 3, 3, 3, 0, 0, 0, 0, 0, 0, 0, 0, 0, 3, 3, 3, 0, 0, 0, 0, 0, 0, 0, 0, 0, 0, 0, 0], # <R'\n",
    "])"
   ]
  },
  {
   "cell_type": "code",
   "execution_count": 28,
   "id": "923278eb",
   "metadata": {},
   "outputs": [
    {
     "name": "stdout",
     "output_type": "stream",
     "text": [
      "Genning search algs...\n",
      "Algs of length 1 genned. Time spent: 0.00s...\n",
      "Algs of length 2 genned. Time spent: 0.00s...\n",
      "Algs of length 3 genned. Time spent: 0.00s...\n",
      "Algs of length 4 genned. Time spent: 0.01s...\n",
      "Done genning algs. Making into np array. Time spent: 0.01s\n",
      "Genning table based on 23916 algs...\n",
      "2391 (10.00%) algs added in 0.04 seconds...\n",
      "4782 (19.99%) algs added in 0.09 seconds...\n",
      "7173 (29.99%) algs added in 0.12 seconds...\n",
      "9564 (39.99%) algs added in 0.15 seconds...\n",
      "11955 (49.99%) algs added in 0.18 seconds...\n",
      "14346 (59.98%) algs added in 0.21 seconds...\n",
      "16737 (69.98%) algs added in 0.24 seconds...\n",
      "19128 (79.98%) algs added in 0.27 seconds...\n",
      "21519 (89.98%) algs added in 0.30 seconds...\n",
      "23910 (99.97%) algs added in 0.33 seconds...\n",
      "Table generated in 0.33 seconds. Size: 10006 consisting of 23915 algs\n",
      "Genning search algs...\n",
      "Algs of length 1 genned. Time spent: 0.00s...\n",
      "Algs of length 2 genned. Time spent: 0.00s...\n",
      "Done genning algs. Making into np array. Time spent: 0.00s\n"
     ]
    }
   ],
   "source": [
    "# idea: set up generic solver to solve xcross in DBL\n",
    "\n",
    "state_xcross = np.array([0,0,0,0,1,0,0,1,0,0,0,0,0,2,0,0,2,0,0,0,0,0,3,3,0,3,3,0,0,0,4,4,0,4,4,0,0,0,0,0,0,0,0,0,0,0,6,0,6,6,6,6,6,0])\n",
    "\n",
    "search_depth = 2\n",
    "table_depth = 4\n",
    "# moves                   R  R2 R' L  L2 L' r  r2 r' l  l2 l' M  M2 M' U  U2 U' D  D2 D' u  u2 u' d  d2 d' E  E2 E' F  F2 F' B  B2 B' f  f2 f' b  b2 b' S  S2 S'\n",
    "# allowed_moves = np.array([10,10,10,10,10,10, 0, 0, 0, 0, 0, 0, 0, 0, 0,10,10,10,10,10,10, 0, 0, 0, 0, 0, 0, 0, 0, 0,10,10,10,10,10,10, 0, 0, 0, 0, 0, 0, 0, 0, 0])\n",
    "allowed_moves = np.full(45,10,dtype=int)\n",
    "\n",
    "search_algs, table = generic_solver_setup(state_xcross, search_depth, table_depth, transition_table, allowed_moves=allowed_moves, start_grips = np.array([1]))"
   ]
  },
  {
   "cell_type": "code",
   "execution_count": 39,
   "id": "361ab71a",
   "metadata": {},
   "outputs": [
    {
     "data": {
      "text/plain": [
       "(\"L' U2 R2 B' F'\", 5)"
      ]
     },
     "execution_count": 39,
     "metadata": {},
     "output_type": "execute_result"
    }
   ],
   "source": [
    "def find_xcross(scramble, search_algs, table, rotate = True):\n",
    "    # hold your cross color down. \n",
    "    # we can find xcross in DBL, so we need to convert the scramble so we can search for it in DFL, DBR, and DFR\n",
    "    best_solve = None\n",
    "    best_length = 100\n",
    "    for rot in [\"\",\"y\",\"y2\",\"y'\"] if rotate else [\"\"]:\n",
    "        rot_scramble = (rot + \" \" + scramble + \" \" + inverse_alg(rot)).strip()\n",
    "        solve = generic_solver(rot_scramble, state_xcross, search_algs, table, string_alg = False)\n",
    "        if solve is None:\n",
    "            continue\n",
    "        length = len(solve)\n",
    "        if length < best_length:\n",
    "            best_length = length\n",
    "            best_solve = (inverse_alg(rot) + \" \" + array_to_alg(solve)).strip()\n",
    "    return best_solve, best_length\n",
    "\n",
    "scramble = \"B F' L' F2 U2 L2 R' B2 L F' R2 D R U2 L U2 D L B2 R2\"\n",
    "find_xcross(scramble, search_algs, table, rotate = True)"
   ]
  },
  {
   "cell_type": "code",
   "execution_count": 34,
   "id": "59e67828",
   "metadata": {},
   "outputs": [
    {
     "name": "stdout",
     "output_type": "stream",
     "text": [
      "B D' F D F2 B' L R U D' F U' R L' F2 U' L F' B2 D'\n"
     ]
    }
   ],
   "source": [
    "def get_n_move_scramble(n):\n",
    "    # assumes you have search_algs and table already set up such that the total length is n\n",
    "    \n",
    "    while True:\n",
    "        scramble = gen_random_alg(20)\n",
    "        solve, length = find_xcross(scramble, search_algs, table)\n",
    "        if solve is None:\n",
    "            continue\n",
    "        if length == n:\n",
    "            return scramble, solve, length\n",
    "        \n",
    "scramble, solve, length = get_n_move_scramble(5)\n",
    "print(scramble)"
   ]
  },
  {
   "cell_type": "code",
   "execution_count": 35,
   "id": "70dc66e6",
   "metadata": {},
   "outputs": [
    {
     "name": "stdout",
     "output_type": "stream",
     "text": [
      "y' F' R r2 B' r2 (5 moves)\n"
     ]
    }
   ],
   "source": [
    "print(f\"{solve} ({length} moves)\")"
   ]
  }
 ],
 "metadata": {
  "kernelspec": {
   "display_name": "base",
   "language": "python",
   "name": "python3"
  },
  "language_info": {
   "codemirror_mode": {
    "name": "ipython",
    "version": 3
   },
   "file_extension": ".py",
   "mimetype": "text/x-python",
   "name": "python",
   "nbconvert_exporter": "python",
   "pygments_lexer": "ipython3",
   "version": "3.9.13"
  }
 },
 "nbformat": 4,
 "nbformat_minor": 5
}
